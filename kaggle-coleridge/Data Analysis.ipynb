{
 "cells": [
  {
   "cell_type": "code",
   "execution_count": 1,
   "metadata": {},
   "outputs": [],
   "source": [
    "import pandas as pd\n",
    "from sklearn.feature_extraction.text import CountVectorizer\n",
    "from sklearn.feature_extraction.text import TfidfTransformer\n",
    "from sklearn.naive_bayes import MultinomialNB"
   ]
  },
  {
   "cell_type": "code",
   "execution_count": 2,
   "metadata": {},
   "outputs": [],
   "source": [
    "SIZE = 1000"
   ]
  },
  {
   "cell_type": "markdown",
   "metadata": {},
   "source": [
    "# Análise de dados"
   ]
  },
  {
   "cell_type": "code",
   "execution_count": 3,
   "metadata": {},
   "outputs": [
    {
     "data": {
      "text/html": [
       "<div>\n",
       "<style scoped>\n",
       "    .dataframe tbody tr th:only-of-type {\n",
       "        vertical-align: middle;\n",
       "    }\n",
       "\n",
       "    .dataframe tbody tr th {\n",
       "        vertical-align: top;\n",
       "    }\n",
       "\n",
       "    .dataframe thead th {\n",
       "        text-align: right;\n",
       "    }\n",
       "</style>\n",
       "<table border=\"1\" class=\"dataframe\">\n",
       "  <thead>\n",
       "    <tr style=\"text-align: right;\">\n",
       "      <th></th>\n",
       "      <th>pub_title</th>\n",
       "      <th>dataset_title</th>\n",
       "      <th>dataset_label</th>\n",
       "      <th>cleaned_label</th>\n",
       "      <th>text</th>\n",
       "    </tr>\n",
       "    <tr>\n",
       "      <th>Id</th>\n",
       "      <th></th>\n",
       "      <th></th>\n",
       "      <th></th>\n",
       "      <th></th>\n",
       "      <th></th>\n",
       "    </tr>\n",
       "  </thead>\n",
       "  <tbody>\n",
       "    <tr>\n",
       "      <th>5c3600bb-69d6-4091-8f54-98cf5f542436</th>\n",
       "      <td>Evaluating the Effects of a Coastal Spine on ...</td>\n",
       "      <td>Sea, Lake, and Overland Surges from Hurricanes</td>\n",
       "      <td>SLOSH model</td>\n",
       "      <td>slosh model</td>\n",
       "      <td>[{\"section_title\": \"\", \"text\": \"\\u2212 Residen...</td>\n",
       "    </tr>\n",
       "    <tr>\n",
       "      <th>2656f4a5-c64d-440f-bf2e-d6146b9da21c</th>\n",
       "      <td>Demographic shift in COVID-19 patients in Sing...</td>\n",
       "      <td>Our World in Data COVID-19 dataset</td>\n",
       "      <td>Our World in Data</td>\n",
       "      <td>our world in data</td>\n",
       "      <td>[{\"section_title\": \"Introduction\", \"text\": \"Si...</td>\n",
       "    </tr>\n",
       "    <tr>\n",
       "      <th>5a7feb99-c6ba-417d-b9d6-4a789bb12305</th>\n",
       "      <td>Response: Impact On Knowledge Of Farm Operators</td>\n",
       "      <td>Agricultural Resource Management Survey</td>\n",
       "      <td>Agricultural Resource Management Survey</td>\n",
       "      <td>agricultural resource management survey</td>\n",
       "      <td>[{\"section_title\": \"\", \"text\": \"I will discuss...</td>\n",
       "    </tr>\n",
       "    <tr>\n",
       "      <th>f0014462-68dd-4d17-8a07-dbc9beba0a28</th>\n",
       "      <td>Immigration and Innovation: Chinese Graduate S...</td>\n",
       "      <td>Survey of Earned Doctorates</td>\n",
       "      <td>Survey of Earned Doctorates</td>\n",
       "      <td>survey of earned doctorates</td>\n",
       "      <td>[{\"section_title\": \"Abstract\", \"text\": \"ISBN 9...</td>\n",
       "    </tr>\n",
       "    <tr>\n",
       "      <th>1cee4871-fdc0-462e-b29b-c3fabf13a7b5</th>\n",
       "      <td>Framework for understanding the patterns of st...</td>\n",
       "      <td>Beginning Postsecondary Student</td>\n",
       "      <td>Beginning Postsecondary Students</td>\n",
       "      <td>beginning postsecondary students</td>\n",
       "      <td>[{\"section_title\": \"Abstract\", \"text\": \"Abstra...</td>\n",
       "    </tr>\n",
       "    <tr>\n",
       "      <th>...</th>\n",
       "      <td>...</td>\n",
       "      <td>...</td>\n",
       "      <td>...</td>\n",
       "      <td>...</td>\n",
       "      <td>...</td>\n",
       "    </tr>\n",
       "    <tr>\n",
       "      <th>e1c78694-d96b-487f-b445-fd692c5fb84e</th>\n",
       "      <td>Advances in longitudinal studies of amnestic m...</td>\n",
       "      <td>Alzheimer's Disease Neuroimaging Initiative (A...</td>\n",
       "      <td>ADNI</td>\n",
       "      <td>adni</td>\n",
       "      <td>[{\"section_title\": \"Abstract\", \"text\": \"Amnest...</td>\n",
       "    </tr>\n",
       "    <tr>\n",
       "      <th>10a7d47c-cd38-4763-bb4b-e5804a670b90</th>\n",
       "      <td>Evaluation of national responses to COVID-19 p...</td>\n",
       "      <td>Our World in Data COVID-19 dataset</td>\n",
       "      <td>Our World in Data</td>\n",
       "      <td>our world in data</td>\n",
       "      <td>[{\"section_title\": \"Introduction\", \"text\": \"Th...</td>\n",
       "    </tr>\n",
       "    <tr>\n",
       "      <th>622123b8-bed9-4f4f-b026-158e552f0839</th>\n",
       "      <td>Connectopathy in ageing and dementia</td>\n",
       "      <td>Alzheimer's Disease Neuroimaging Initiative (A...</td>\n",
       "      <td>ADNI</td>\n",
       "      <td>adni</td>\n",
       "      <td>[{\"section_title\": \"\", \"text\": \"Connectivity i...</td>\n",
       "    </tr>\n",
       "    <tr>\n",
       "      <th>90dad306-ae3b-4016-9f60-cf45d76bc0f2</th>\n",
       "      <td>Serum 25(OH)D and Cognition: A Narrative Revie...</td>\n",
       "      <td>Baltimore Longitudinal Study of Aging (BLSA)</td>\n",
       "      <td>Baltimore Longitudinal Study of Aging (BLSA)</td>\n",
       "      <td>baltimore longitudinal study of aging blsa</td>\n",
       "      <td>[{\"section_title\": \"Abstract\", \"text\": \"The ef...</td>\n",
       "    </tr>\n",
       "    <tr>\n",
       "      <th>658961ee-b999-48f4-948b-6f06eea2c870</th>\n",
       "      <td>THE COGNITIVE COMPETENCES OF IMMIGRANT AND NAT...</td>\n",
       "      <td>Trends in International Mathematics and Scienc...</td>\n",
       "      <td>Trends in International Mathematics and Scienc...</td>\n",
       "      <td>trends in international mathematics and scienc...</td>\n",
       "      <td>[{\"section_title\": \"Abstract\", \"text\": \"Summar...</td>\n",
       "    </tr>\n",
       "  </tbody>\n",
       "</table>\n",
       "<p>14316 rows × 5 columns</p>\n",
       "</div>"
      ],
      "text/plain": [
       "                                                                              pub_title  \\\n",
       "Id                                                                                        \n",
       "5c3600bb-69d6-4091-8f54-98cf5f542436   Evaluating the Effects of a Coastal Spine on ...   \n",
       "2656f4a5-c64d-440f-bf2e-d6146b9da21c  Demographic shift in COVID-19 patients in Sing...   \n",
       "5a7feb99-c6ba-417d-b9d6-4a789bb12305   Response: Impact On Knowledge Of Farm Operators    \n",
       "f0014462-68dd-4d17-8a07-dbc9beba0a28  Immigration and Innovation: Chinese Graduate S...   \n",
       "1cee4871-fdc0-462e-b29b-c3fabf13a7b5  Framework for understanding the patterns of st...   \n",
       "...                                                                                 ...   \n",
       "e1c78694-d96b-487f-b445-fd692c5fb84e  Advances in longitudinal studies of amnestic m...   \n",
       "10a7d47c-cd38-4763-bb4b-e5804a670b90  Evaluation of national responses to COVID-19 p...   \n",
       "622123b8-bed9-4f4f-b026-158e552f0839               Connectopathy in ageing and dementia   \n",
       "90dad306-ae3b-4016-9f60-cf45d76bc0f2  Serum 25(OH)D and Cognition: A Narrative Revie...   \n",
       "658961ee-b999-48f4-948b-6f06eea2c870  THE COGNITIVE COMPETENCES OF IMMIGRANT AND NAT...   \n",
       "\n",
       "                                                                          dataset_title  \\\n",
       "Id                                                                                        \n",
       "5c3600bb-69d6-4091-8f54-98cf5f542436     Sea, Lake, and Overland Surges from Hurricanes   \n",
       "2656f4a5-c64d-440f-bf2e-d6146b9da21c                 Our World in Data COVID-19 dataset   \n",
       "5a7feb99-c6ba-417d-b9d6-4a789bb12305            Agricultural Resource Management Survey   \n",
       "f0014462-68dd-4d17-8a07-dbc9beba0a28                        Survey of Earned Doctorates   \n",
       "1cee4871-fdc0-462e-b29b-c3fabf13a7b5                    Beginning Postsecondary Student   \n",
       "...                                                                                 ...   \n",
       "e1c78694-d96b-487f-b445-fd692c5fb84e  Alzheimer's Disease Neuroimaging Initiative (A...   \n",
       "10a7d47c-cd38-4763-bb4b-e5804a670b90                 Our World in Data COVID-19 dataset   \n",
       "622123b8-bed9-4f4f-b026-158e552f0839  Alzheimer's Disease Neuroimaging Initiative (A...   \n",
       "90dad306-ae3b-4016-9f60-cf45d76bc0f2       Baltimore Longitudinal Study of Aging (BLSA)   \n",
       "658961ee-b999-48f4-948b-6f06eea2c870  Trends in International Mathematics and Scienc...   \n",
       "\n",
       "                                                                          dataset_label  \\\n",
       "Id                                                                                        \n",
       "5c3600bb-69d6-4091-8f54-98cf5f542436                                        SLOSH model   \n",
       "2656f4a5-c64d-440f-bf2e-d6146b9da21c                                  Our World in Data   \n",
       "5a7feb99-c6ba-417d-b9d6-4a789bb12305            Agricultural Resource Management Survey   \n",
       "f0014462-68dd-4d17-8a07-dbc9beba0a28                        Survey of Earned Doctorates   \n",
       "1cee4871-fdc0-462e-b29b-c3fabf13a7b5                   Beginning Postsecondary Students   \n",
       "...                                                                                 ...   \n",
       "e1c78694-d96b-487f-b445-fd692c5fb84e                                               ADNI   \n",
       "10a7d47c-cd38-4763-bb4b-e5804a670b90                                  Our World in Data   \n",
       "622123b8-bed9-4f4f-b026-158e552f0839                                               ADNI   \n",
       "90dad306-ae3b-4016-9f60-cf45d76bc0f2       Baltimore Longitudinal Study of Aging (BLSA)   \n",
       "658961ee-b999-48f4-948b-6f06eea2c870  Trends in International Mathematics and Scienc...   \n",
       "\n",
       "                                                                          cleaned_label  \\\n",
       "Id                                                                                        \n",
       "5c3600bb-69d6-4091-8f54-98cf5f542436                                        slosh model   \n",
       "2656f4a5-c64d-440f-bf2e-d6146b9da21c                                  our world in data   \n",
       "5a7feb99-c6ba-417d-b9d6-4a789bb12305            agricultural resource management survey   \n",
       "f0014462-68dd-4d17-8a07-dbc9beba0a28                        survey of earned doctorates   \n",
       "1cee4871-fdc0-462e-b29b-c3fabf13a7b5                   beginning postsecondary students   \n",
       "...                                                                                 ...   \n",
       "e1c78694-d96b-487f-b445-fd692c5fb84e                                               adni   \n",
       "10a7d47c-cd38-4763-bb4b-e5804a670b90                                  our world in data   \n",
       "622123b8-bed9-4f4f-b026-158e552f0839                                               adni   \n",
       "90dad306-ae3b-4016-9f60-cf45d76bc0f2        baltimore longitudinal study of aging blsa    \n",
       "658961ee-b999-48f4-948b-6f06eea2c870  trends in international mathematics and scienc...   \n",
       "\n",
       "                                                                                   text  \n",
       "Id                                                                                       \n",
       "5c3600bb-69d6-4091-8f54-98cf5f542436  [{\"section_title\": \"\", \"text\": \"\\u2212 Residen...  \n",
       "2656f4a5-c64d-440f-bf2e-d6146b9da21c  [{\"section_title\": \"Introduction\", \"text\": \"Si...  \n",
       "5a7feb99-c6ba-417d-b9d6-4a789bb12305  [{\"section_title\": \"\", \"text\": \"I will discuss...  \n",
       "f0014462-68dd-4d17-8a07-dbc9beba0a28  [{\"section_title\": \"Abstract\", \"text\": \"ISBN 9...  \n",
       "1cee4871-fdc0-462e-b29b-c3fabf13a7b5  [{\"section_title\": \"Abstract\", \"text\": \"Abstra...  \n",
       "...                                                                                 ...  \n",
       "e1c78694-d96b-487f-b445-fd692c5fb84e  [{\"section_title\": \"Abstract\", \"text\": \"Amnest...  \n",
       "10a7d47c-cd38-4763-bb4b-e5804a670b90  [{\"section_title\": \"Introduction\", \"text\": \"Th...  \n",
       "622123b8-bed9-4f4f-b026-158e552f0839  [{\"section_title\": \"\", \"text\": \"Connectivity i...  \n",
       "90dad306-ae3b-4016-9f60-cf45d76bc0f2  [{\"section_title\": \"Abstract\", \"text\": \"The ef...  \n",
       "658961ee-b999-48f4-948b-6f06eea2c870  [{\"section_title\": \"Abstract\", \"text\": \"Summar...  \n",
       "\n",
       "[14316 rows x 5 columns]"
      ]
     },
     "execution_count": 3,
     "metadata": {},
     "output_type": "execute_result"
    }
   ],
   "source": [
    "dataset = pd.read_pickle('clean_train')\n",
    "dataset = dataset.sample(frac=1, random_state=42)\n",
    "dataset"
   ]
  },
  {
   "cell_type": "markdown",
   "metadata": {},
   "source": [
    "### Pipeline do tutorial do SKLearn: CountVectorizer, TfidfTransformer, e MultinomialNB\n",
    "\n",
    "### Começo criando e ajustando o algoritmo que classifica os textos em termos do dataset que estaria citando\n",
    "\n",
    "### CountVectorizer produz uma matriz esparsa com a frequência absoluta dos termos (palavras) em cada documento. Essa matriz esparsa se chama \"document term matrix\" (DTM)"
   ]
  },
  {
   "cell_type": "code",
   "execution_count": 4,
   "metadata": {},
   "outputs": [
    {
     "data": {
      "text/plain": [
       "<1000x134910 sparse matrix of type '<class 'numpy.int64'>'\n",
       "\twith 1311158 stored elements in Compressed Sparse Row format>"
      ]
     },
     "execution_count": 4,
     "metadata": {},
     "output_type": "execute_result"
    }
   ],
   "source": [
    "CV = CountVectorizer()\n",
    "document_term_matrix = CV.fit_transform(dataset[\"text\"].iloc[:SIZE])\n",
    "document_term_matrix"
   ]
  },
  {
   "cell_type": "markdown",
   "metadata": {},
   "source": [
    "### TfidfTransformer usa o DTM obtido acima para produz outra matriz esparsa, desta vez contendo a frequência relativa dos termos em cada documento, ponderados inversamente pela sua frequência em outros documentos. Esta matriz se chama TF-IDF"
   ]
  },
  {
   "cell_type": "code",
   "execution_count": 5,
   "metadata": {},
   "outputs": [
    {
     "data": {
      "text/plain": [
       "<1000x134910 sparse matrix of type '<class 'numpy.float64'>'\n",
       "\twith 1311158 stored elements in Compressed Sparse Row format>"
      ]
     },
     "execution_count": 5,
     "metadata": {},
     "output_type": "execute_result"
    }
   ],
   "source": [
    "TF = TfidfTransformer()\n",
    "tfidf_doc_term_mtx = TF.fit_transform(document_term_matrix)\n",
    "tfidf_doc_term_mtx"
   ]
  },
  {
   "cell_type": "markdown",
   "metadata": {},
   "source": [
    "### MultinomialNB é um classificador de tipo *naive bayes* que treina usando matriz TF-IDF com as respostas fornecidas no dataset"
   ]
  },
  {
   "cell_type": "code",
   "execution_count": 6,
   "metadata": {},
   "outputs": [
    {
     "data": {
      "text/plain": [
       "MultinomialNB()"
      ]
     },
     "execution_count": 6,
     "metadata": {},
     "output_type": "execute_result"
    }
   ],
   "source": [
    "classifier = MultinomialNB()\n",
    "classifier = classifier.fit(tfidf_doc_term_mtx, dataset[\"cleaned_label\"].iloc[:SIZE])\n",
    "classifier"
   ]
  },
  {
   "cell_type": "markdown",
   "metadata": {},
   "source": [
    "### Testaremos agora nosso classificador"
   ]
  },
  {
   "cell_type": "code",
   "execution_count": 7,
   "metadata": {},
   "outputs": [
    {
     "data": {
      "text/plain": [
       "<1000x134910 sparse matrix of type '<class 'numpy.int64'>'\n",
       "\twith 1220873 stored elements in Compressed Sparse Row format>"
      ]
     },
     "execution_count": 7,
     "metadata": {},
     "output_type": "execute_result"
    }
   ],
   "source": [
    "DTM_new = CV.transform(dataset[\"text\"].iloc[SIZE : 2*SIZE])\n",
    "DTM_new"
   ]
  },
  {
   "cell_type": "code",
   "execution_count": 8,
   "metadata": {},
   "outputs": [
    {
     "data": {
      "text/plain": [
       "<1000x134910 sparse matrix of type '<class 'numpy.float64'>'\n",
       "\twith 1220873 stored elements in Compressed Sparse Row format>"
      ]
     },
     "execution_count": 8,
     "metadata": {},
     "output_type": "execute_result"
    }
   ],
   "source": [
    "TFIDF_new = TF.transform(DTM_new)\n",
    "TFIDF_new"
   ]
  },
  {
   "cell_type": "code",
   "execution_count": 9,
   "metadata": {},
   "outputs": [
    {
     "data": {
      "text/plain": [
       "array(['adni', 'adni', 'adni', 'adni', 'adni', 'adni', 'adni', 'adni',\n",
       "       'adni', 'adni', 'adni', 'adni', 'adni', 'adni', 'adni', 'adni',\n",
       "       'adni', 'adni', 'adni', 'adni', 'adni', 'adni', 'adni', 'adni',\n",
       "       'adni', 'adni', 'adni', 'adni', 'adni', 'adni', 'adni', 'adni',\n",
       "       'adni', 'adni', 'adni', 'adni', 'adni', 'adni', 'adni', 'adni',\n",
       "       'adni', 'adni', 'adni', 'adni', 'adni', 'adni', 'adni', 'adni',\n",
       "       'adni', 'adni', 'adni', 'adni', 'adni', 'adni', 'adni', 'adni',\n",
       "       'adni', 'adni', 'adni', 'adni', 'adni', 'adni', 'adni', 'adni',\n",
       "       'adni', 'adni', 'adni', 'adni', 'adni', 'adni', 'adni', 'adni',\n",
       "       'adni', 'adni', 'adni', 'adni', 'adni', 'adni', 'adni', 'adni',\n",
       "       'adni', 'adni', 'adni', 'adni', 'adni', 'adni', 'adni', 'adni',\n",
       "       'adni', 'adni', 'adni', 'adni', 'adni', 'adni', 'adni', 'adni',\n",
       "       'adni', 'adni', 'adni', 'adni', 'adni', 'adni', 'adni', 'adni',\n",
       "       'adni', 'adni', 'adni', 'adni', 'adni', 'adni', 'adni', 'adni',\n",
       "       'adni', 'adni', 'adni', 'adni', 'adni', 'adni', 'adni', 'adni',\n",
       "       'adni', 'adni', 'adni', 'adni', 'adni', 'adni', 'adni', 'adni',\n",
       "       'adni', 'adni', 'adni', 'adni', 'adni', 'adni', 'adni', 'adni',\n",
       "       'adni', 'adni', 'adni', 'adni', 'adni', 'adni', 'adni', 'adni',\n",
       "       'adni', 'adni', 'adni', 'adni', 'adni', 'adni', 'adni', 'adni',\n",
       "       'adni', 'adni', 'adni', 'adni', 'adni', 'adni', 'adni', 'adni',\n",
       "       'adni', 'adni', 'adni', 'adni', 'adni', 'adni', 'adni', 'adni',\n",
       "       'adni', 'adni', 'adni', 'adni', 'adni', 'adni', 'adni', 'adni',\n",
       "       'adni', 'adni', 'adni', 'adni', 'adni', 'adni', 'adni', 'adni',\n",
       "       'adni', 'adni', 'adni', 'adni', 'adni', 'adni', 'adni', 'adni',\n",
       "       'adni', 'adni', 'adni', 'adni', 'adni', 'adni', 'adni', 'adni',\n",
       "       'adni', 'adni', 'adni', 'adni', 'adni', 'adni', 'adni', 'adni',\n",
       "       'adni', 'adni', 'adni', 'adni', 'adni', 'adni', 'adni', 'adni',\n",
       "       'adni', 'adni', 'adni', 'adni', 'adni', 'adni', 'adni', 'adni',\n",
       "       'adni', 'adni', 'adni', 'adni', 'adni', 'adni', 'adni', 'adni',\n",
       "       'adni', 'adni', 'adni', 'adni', 'adni', 'adni', 'adni', 'adni',\n",
       "       'adni', 'adni', 'adni', 'adni', 'adni', 'adni', 'adni', 'adni',\n",
       "       'adni', 'adni', 'adni', 'adni', 'adni', 'adni', 'adni', 'adni',\n",
       "       'adni', 'adni', 'adni', 'adni', 'adni', 'adni', 'adni', 'adni',\n",
       "       'adni', 'adni', 'adni', 'adni', 'adni', 'adni', 'adni', 'adni',\n",
       "       'adni', 'adni', 'adni', 'adni', 'adni', 'adni', 'adni', 'adni',\n",
       "       'adni', 'adni', 'adni', 'adni', 'adni', 'adni', 'adni', 'adni',\n",
       "       'adni', 'adni', 'adni', 'adni', 'adni', 'adni', 'adni', 'adni',\n",
       "       'adni', 'adni', 'adni', 'adni', 'adni', 'adni', 'adni', 'adni',\n",
       "       'adni', 'adni', 'adni', 'adni', 'adni', 'adni', 'adni', 'adni',\n",
       "       'adni', 'adni', 'adni', 'adni', 'adni', 'adni', 'adni', 'adni',\n",
       "       'adni', 'adni', 'adni', 'adni', 'adni', 'adni', 'adni', 'adni',\n",
       "       'adni', 'adni', 'adni', 'adni', 'adni', 'adni', 'adni', 'adni',\n",
       "       'adni', 'adni', 'adni', 'adni', 'adni', 'adni', 'adni', 'adni',\n",
       "       'adni', 'adni', 'adni', 'adni', 'adni', 'adni', 'adni', 'adni',\n",
       "       'adni', 'adni', 'adni', 'adni', 'adni', 'adni', 'adni', 'adni',\n",
       "       'adni', 'adni', 'adni', 'adni', 'adni', 'adni', 'adni', 'adni',\n",
       "       'adni', 'adni', 'adni', 'adni', 'adni', 'adni', 'adni', 'adni',\n",
       "       'adni', 'adni', 'adni', 'adni', 'adni', 'adni', 'adni', 'adni',\n",
       "       'adni', 'adni', 'adni', 'adni', 'adni', 'adni', 'adni', 'adni',\n",
       "       'adni', 'adni', 'adni', 'adni', 'adni', 'adni', 'adni', 'adni',\n",
       "       'adni', 'adni', 'adni', 'adni', 'adni', 'adni', 'adni', 'adni',\n",
       "       'adni', 'adni', 'adni', 'adni', 'adni', 'adni', 'adni', 'adni',\n",
       "       'adni', 'adni', 'adni', 'adni', 'adni', 'adni', 'adni', 'adni',\n",
       "       'adni', 'adni', 'adni', 'adni', 'adni', 'adni', 'adni', 'adni',\n",
       "       'adni', 'adni', 'adni', 'adni', 'adni', 'adni', 'adni', 'adni',\n",
       "       'adni', 'adni', 'adni', 'adni', 'adni', 'adni', 'adni', 'adni',\n",
       "       'adni', 'adni', 'adni', 'adni', 'adni', 'adni', 'adni', 'adni',\n",
       "       'adni', 'adni', 'adni', 'adni', 'adni', 'adni', 'adni', 'adni',\n",
       "       'adni', 'adni', 'adni', 'adni', 'adni', 'adni', 'adni', 'adni',\n",
       "       'adni', 'adni', 'adni', 'adni', 'adni', 'adni', 'adni', 'adni',\n",
       "       'adni', 'adni', 'adni', 'adni', 'adni', 'adni', 'adni', 'adni',\n",
       "       'adni', 'adni', 'adni', 'adni', 'adni', 'adni', 'adni', 'adni',\n",
       "       'adni', 'adni', 'adni', 'adni', 'adni', 'adni', 'adni', 'adni',\n",
       "       'adni', 'adni', 'adni', 'adni', 'adni', 'adni', 'adni', 'adni',\n",
       "       'adni', 'adni', 'adni', 'adni', 'adni', 'adni', 'adni', 'adni',\n",
       "       'adni', 'adni', 'adni', 'adni', 'adni', 'adni', 'adni', 'adni',\n",
       "       'adni', 'adni', 'adni', 'adni', 'adni', 'adni', 'adni', 'adni',\n",
       "       'adni', 'adni', 'adni', 'adni', 'adni', 'adni', 'adni', 'adni',\n",
       "       'adni', 'adni', 'adni', 'adni', 'adni', 'adni', 'adni', 'adni',\n",
       "       'adni', 'adni', 'adni', 'adni', 'adni', 'adni', 'adni', 'adni',\n",
       "       'adni', 'adni', 'adni', 'adni', 'adni', 'adni', 'adni', 'adni',\n",
       "       'adni', 'adni', 'adni', 'adni', 'adni', 'adni', 'adni', 'adni',\n",
       "       'adni', 'adni', 'adni', 'adni', 'adni', 'adni', 'adni', 'adni',\n",
       "       'adni', 'adni', 'adni', 'adni', 'adni', 'adni', 'adni', 'adni',\n",
       "       'adni', 'adni', 'adni', 'adni', 'adni', 'adni', 'adni', 'adni',\n",
       "       'adni', 'adni', 'adni', 'adni', 'adni', 'adni', 'adni', 'adni',\n",
       "       'adni', 'adni', 'adni', 'adni', 'adni', 'adni', 'adni', 'adni',\n",
       "       'adni', 'adni', 'adni', 'adni', 'adni', 'adni', 'adni', 'adni',\n",
       "       'adni', 'adni', 'adni', 'adni', 'adni', 'adni', 'adni', 'adni',\n",
       "       'adni', 'adni', 'adni', 'adni', 'adni', 'adni', 'adni', 'adni',\n",
       "       'adni', 'adni', 'adni', 'adni', 'adni', 'adni', 'adni', 'adni',\n",
       "       'adni', 'adni', 'adni', 'adni', 'adni', 'adni', 'adni', 'adni',\n",
       "       'adni', 'adni', 'adni', 'adni', 'adni', 'adni', 'adni', 'adni',\n",
       "       'adni', 'adni', 'adni', 'adni', 'adni', 'adni', 'adni', 'adni',\n",
       "       'adni', 'adni', 'adni', 'adni', 'adni', 'adni', 'adni', 'adni',\n",
       "       'adni', 'adni', 'adni', 'adni', 'adni', 'adni', 'adni', 'adni',\n",
       "       'adni', 'adni', 'adni', 'adni', 'adni', 'adni', 'adni', 'adni',\n",
       "       'adni', 'adni', 'adni', 'adni', 'adni', 'adni', 'adni', 'adni',\n",
       "       'adni', 'adni', 'adni', 'adni', 'adni', 'adni', 'adni', 'adni',\n",
       "       'adni', 'adni', 'adni', 'adni', 'adni', 'adni', 'adni', 'adni',\n",
       "       'adni', 'adni', 'adni', 'adni', 'adni', 'adni', 'adni', 'adni',\n",
       "       'adni', 'adni', 'adni', 'adni', 'adni', 'adni', 'adni', 'adni',\n",
       "       'adni', 'adni', 'adni', 'adni', 'adni', 'adni', 'adni', 'adni',\n",
       "       'adni', 'adni', 'adni', 'adni', 'adni', 'adni', 'adni', 'adni',\n",
       "       'adni', 'adni', 'adni', 'adni', 'adni', 'adni', 'adni', 'adni',\n",
       "       'adni', 'adni', 'adni', 'adni', 'adni', 'adni', 'adni', 'adni',\n",
       "       'adni', 'adni', 'adni', 'adni', 'adni', 'adni', 'adni', 'adni',\n",
       "       'adni', 'adni', 'adni', 'adni', 'adni', 'adni', 'adni', 'adni',\n",
       "       'adni', 'adni', 'adni', 'adni', 'adni', 'adni', 'adni', 'adni',\n",
       "       'adni', 'adni', 'adni', 'adni', 'adni', 'adni', 'adni', 'adni',\n",
       "       'adni', 'adni', 'adni', 'adni', 'adni', 'adni', 'adni', 'adni',\n",
       "       'adni', 'adni', 'adni', 'adni', 'adni', 'adni', 'adni', 'adni',\n",
       "       'adni', 'adni', 'adni', 'adni', 'adni', 'adni', 'adni', 'adni',\n",
       "       'adni', 'adni', 'adni', 'adni', 'adni', 'adni', 'adni', 'adni',\n",
       "       'adni', 'adni', 'adni', 'adni', 'adni', 'adni', 'adni', 'adni',\n",
       "       'adni', 'adni', 'adni', 'adni', 'adni', 'adni', 'adni', 'adni',\n",
       "       'adni', 'adni', 'adni', 'adni', 'adni', 'adni', 'adni', 'adni',\n",
       "       'adni', 'adni', 'adni', 'adni', 'adni', 'adni', 'adni', 'adni',\n",
       "       'adni', 'adni', 'adni', 'adni', 'adni', 'adni', 'adni', 'adni',\n",
       "       'adni', 'adni', 'adni', 'adni', 'adni', 'adni', 'adni', 'adni',\n",
       "       'adni', 'adni', 'adni', 'adni', 'adni', 'adni', 'adni', 'adni',\n",
       "       'adni', 'adni', 'adni', 'adni', 'adni', 'adni', 'adni', 'adni',\n",
       "       'adni', 'adni', 'adni', 'adni', 'adni', 'adni', 'adni', 'adni',\n",
       "       'adni', 'adni', 'adni', 'adni', 'adni', 'adni', 'adni', 'adni',\n",
       "       'adni', 'adni', 'adni', 'adni', 'adni', 'adni', 'adni', 'adni',\n",
       "       'adni', 'adni', 'adni', 'adni', 'adni', 'adni', 'adni', 'adni',\n",
       "       'adni', 'adni', 'adni', 'adni', 'adni', 'adni', 'adni', 'adni',\n",
       "       'adni', 'adni', 'adni', 'adni', 'adni', 'adni', 'adni', 'adni',\n",
       "       'adni', 'adni', 'adni', 'adni', 'adni', 'adni', 'adni', 'adni',\n",
       "       'adni', 'adni', 'adni', 'adni', 'adni', 'adni', 'adni', 'adni',\n",
       "       'adni', 'adni', 'adni', 'adni', 'adni', 'adni', 'adni', 'adni',\n",
       "       'adni', 'adni', 'adni', 'adni', 'adni', 'adni', 'adni', 'adni',\n",
       "       'adni', 'adni', 'adni', 'adni', 'adni', 'adni', 'adni', 'adni',\n",
       "       'adni', 'adni', 'adni', 'adni', 'adni', 'adni', 'adni', 'adni',\n",
       "       'adni', 'adni', 'adni', 'adni', 'adni', 'adni', 'adni', 'adni'],\n",
       "      dtype='<U81')"
      ]
     },
     "execution_count": 9,
     "metadata": {},
     "output_type": "execute_result"
    }
   ],
   "source": [
    "predictions = classifier.predict(TFIDF_new)\n",
    "predictions"
   ]
  },
  {
   "cell_type": "code",
   "execution_count": null,
   "metadata": {},
   "outputs": [],
   "source": []
  }
 ],
 "metadata": {
  "kernelspec": {
   "display_name": "Python 3",
   "language": "python",
   "name": "python3"
  },
  "language_info": {
   "codemirror_mode": {
    "name": "ipython",
    "version": 3
   },
   "file_extension": ".py",
   "mimetype": "text/x-python",
   "name": "python",
   "nbconvert_exporter": "python",
   "pygments_lexer": "ipython3",
   "version": "3.8.5"
  }
 },
 "nbformat": 4,
 "nbformat_minor": 4
}

{
 "cells": [
  {
   "cell_type": "markdown",
   "metadata": {},
   "source": [
    "### Variable cheat sheet:\n",
    "* *file_raw:* DataFrame obtained from the original CSV files in /data/raw.\n",
    "* *file_preinterim:* DataFrame that has passed through our first two cleaning steps.\n",
    "* *file_interim:* DataFrame that has passed through all three cleaning steps, and which has been saved in /data/interim.\n",
    "* *file_MultiIndex:* MultiIndex object.\n",
    "* *file:* MultIindex DataFrame which has been saved in /data/processed."
   ]
  },
  {
   "cell_type": "markdown",
   "metadata": {},
   "source": [
    "# Raw data:\n",
    "### Three datasets in CSV format, corresponding to the pandemic's three semesters: January-July 2020, August-December 2020, and January-July 2021.\n",
    "### Each row contains pandemic-relevant demographic information about a municipality in Brazil. Almost every one of the 5570 municipalities are covered.\n",
    "\n",
    "# Objectives:\n",
    "### To practice the application of descriptive and inferential Statistics 101 tools to COVID-19 data.\n",
    "### In specific, we will look at mortality rate statistics across time and across regions in Brazil."
   ]
  },
  {
   "cell_type": "code",
   "execution_count": 1,
   "metadata": {},
   "outputs": [],
   "source": [
    "import os\n",
    "import time\n",
    "import pickle\n",
    "import numpy as np\n",
    "import pandas as pd\n",
    "from collections import defaultdict"
   ]
  },
  {
   "cell_type": "code",
   "execution_count": 2,
   "metadata": {},
   "outputs": [
    {
     "name": "stdout",
     "output_type": "stream",
     "text": [
      "Original csv import time: 8.23 secs\n"
     ]
    }
   ],
   "source": [
    "# Loading from /data/raw.\n",
    "load_path = 'data' + os.sep + 'raw' + os.sep\n",
    "title = 'HIST_PAINEL_COVIDBR'\n",
    "download_date = '08jun2021'\n",
    "\n",
    "start = time.time()\n",
    "JanJul2020_raw = pd.read_csv(f'{load_path}{title}_2020_Parte1_{download_date}.csv', sep=';', low_memory=False)\n",
    "AugDec2020_raw = pd.read_csv(f'{load_path}{title}_2020_Parte2_{download_date}.csv', sep=',', low_memory=False)\n",
    "JanJul2021_raw = pd.read_csv(f'{load_path}{title}_Parte3_{download_date}.csv', sep=',', low_memory=False)\n",
    "end = time.time()\n",
    "\n",
    "print(f'Original csv import time: {end - start :.2f} secs')"
   ]
  },
  {
   "cell_type": "markdown",
   "metadata": {},
   "source": [
    "### Let us look at a few arbitrary rows."
   ]
  },
  {
   "cell_type": "code",
   "execution_count": 3,
   "metadata": {},
   "outputs": [
    {
     "data": {
      "text/html": [
       "<div>\n",
       "<style scoped>\n",
       "    .dataframe tbody tr th:only-of-type {\n",
       "        vertical-align: middle;\n",
       "    }\n",
       "\n",
       "    .dataframe tbody tr th {\n",
       "        vertical-align: top;\n",
       "    }\n",
       "\n",
       "    .dataframe thead th {\n",
       "        text-align: right;\n",
       "    }\n",
       "</style>\n",
       "<table border=\"1\" class=\"dataframe\">\n",
       "  <thead>\n",
       "    <tr style=\"text-align: right;\">\n",
       "      <th></th>\n",
       "      <th>regiao</th>\n",
       "      <th>estado</th>\n",
       "      <th>municipio</th>\n",
       "      <th>coduf</th>\n",
       "      <th>codmun</th>\n",
       "      <th>codRegiaoSaude</th>\n",
       "      <th>nomeRegiaoSaude</th>\n",
       "      <th>data</th>\n",
       "      <th>semanaEpi</th>\n",
       "      <th>populacaoTCU2019</th>\n",
       "      <th>casosAcumulado</th>\n",
       "      <th>casosNovos</th>\n",
       "      <th>obitosAcumulado</th>\n",
       "      <th>obitosNovos</th>\n",
       "      <th>Recuperadosnovos</th>\n",
       "      <th>emAcompanhamentoNovos</th>\n",
       "      <th>interior/metropolitana</th>\n",
       "    </tr>\n",
       "  </thead>\n",
       "  <tbody>\n",
       "    <tr>\n",
       "      <th>4929</th>\n",
       "      <td>Norte</td>\n",
       "      <td>RO</td>\n",
       "      <td>Cabixi</td>\n",
       "      <td>11</td>\n",
       "      <td>110003.0</td>\n",
       "      <td>11006.0</td>\n",
       "      <td>CONE SUL</td>\n",
       "      <td>2020-07-29</td>\n",
       "      <td>31</td>\n",
       "      <td>5312.0</td>\n",
       "      <td>44</td>\n",
       "      <td>3</td>\n",
       "      <td>3</td>\n",
       "      <td>0</td>\n",
       "      <td>NaN</td>\n",
       "      <td>NaN</td>\n",
       "      <td>0.0</td>\n",
       "    </tr>\n",
       "    <tr>\n",
       "      <th>4930</th>\n",
       "      <td>Norte</td>\n",
       "      <td>RO</td>\n",
       "      <td>Cabixi</td>\n",
       "      <td>11</td>\n",
       "      <td>110003.0</td>\n",
       "      <td>11006.0</td>\n",
       "      <td>CONE SUL</td>\n",
       "      <td>2020-07-30</td>\n",
       "      <td>31</td>\n",
       "      <td>5312.0</td>\n",
       "      <td>44</td>\n",
       "      <td>0</td>\n",
       "      <td>3</td>\n",
       "      <td>0</td>\n",
       "      <td>NaN</td>\n",
       "      <td>NaN</td>\n",
       "      <td>0.0</td>\n",
       "    </tr>\n",
       "    <tr>\n",
       "      <th>4931</th>\n",
       "      <td>Norte</td>\n",
       "      <td>RO</td>\n",
       "      <td>Cabixi</td>\n",
       "      <td>11</td>\n",
       "      <td>110003.0</td>\n",
       "      <td>11006.0</td>\n",
       "      <td>CONE SUL</td>\n",
       "      <td>2020-07-31</td>\n",
       "      <td>31</td>\n",
       "      <td>5312.0</td>\n",
       "      <td>44</td>\n",
       "      <td>0</td>\n",
       "      <td>3</td>\n",
       "      <td>0</td>\n",
       "      <td>NaN</td>\n",
       "      <td>NaN</td>\n",
       "      <td>0.0</td>\n",
       "    </tr>\n",
       "    <tr>\n",
       "      <th>4932</th>\n",
       "      <td>Norte</td>\n",
       "      <td>RO</td>\n",
       "      <td>Cacoal</td>\n",
       "      <td>11</td>\n",
       "      <td>110004.0</td>\n",
       "      <td>11002.0</td>\n",
       "      <td>CAFE</td>\n",
       "      <td>2020-03-27</td>\n",
       "      <td>13</td>\n",
       "      <td>85359.0</td>\n",
       "      <td>0</td>\n",
       "      <td>0</td>\n",
       "      <td>0</td>\n",
       "      <td>0</td>\n",
       "      <td>NaN</td>\n",
       "      <td>NaN</td>\n",
       "      <td>0.0</td>\n",
       "    </tr>\n",
       "    <tr>\n",
       "      <th>4933</th>\n",
       "      <td>Norte</td>\n",
       "      <td>RO</td>\n",
       "      <td>Cacoal</td>\n",
       "      <td>11</td>\n",
       "      <td>110004.0</td>\n",
       "      <td>11002.0</td>\n",
       "      <td>CAFE</td>\n",
       "      <td>2020-03-28</td>\n",
       "      <td>13</td>\n",
       "      <td>85359.0</td>\n",
       "      <td>0</td>\n",
       "      <td>0</td>\n",
       "      <td>0</td>\n",
       "      <td>0</td>\n",
       "      <td>NaN</td>\n",
       "      <td>NaN</td>\n",
       "      <td>0.0</td>\n",
       "    </tr>\n",
       "    <tr>\n",
       "      <th>4934</th>\n",
       "      <td>Norte</td>\n",
       "      <td>RO</td>\n",
       "      <td>Cacoal</td>\n",
       "      <td>11</td>\n",
       "      <td>110004.0</td>\n",
       "      <td>11002.0</td>\n",
       "      <td>CAFE</td>\n",
       "      <td>2020-03-29</td>\n",
       "      <td>14</td>\n",
       "      <td>85359.0</td>\n",
       "      <td>0</td>\n",
       "      <td>0</td>\n",
       "      <td>0</td>\n",
       "      <td>0</td>\n",
       "      <td>NaN</td>\n",
       "      <td>NaN</td>\n",
       "      <td>0.0</td>\n",
       "    </tr>\n",
       "  </tbody>\n",
       "</table>\n",
       "</div>"
      ],
      "text/plain": [
       "     regiao estado municipio  coduf    codmun  codRegiaoSaude nomeRegiaoSaude  \\\n",
       "4929  Norte     RO    Cabixi     11  110003.0         11006.0        CONE SUL   \n",
       "4930  Norte     RO    Cabixi     11  110003.0         11006.0        CONE SUL   \n",
       "4931  Norte     RO    Cabixi     11  110003.0         11006.0        CONE SUL   \n",
       "4932  Norte     RO    Cacoal     11  110004.0         11002.0            CAFE   \n",
       "4933  Norte     RO    Cacoal     11  110004.0         11002.0            CAFE   \n",
       "4934  Norte     RO    Cacoal     11  110004.0         11002.0            CAFE   \n",
       "\n",
       "            data  semanaEpi  populacaoTCU2019  casosAcumulado  casosNovos  \\\n",
       "4929  2020-07-29         31            5312.0              44           3   \n",
       "4930  2020-07-30         31            5312.0              44           0   \n",
       "4931  2020-07-31         31            5312.0              44           0   \n",
       "4932  2020-03-27         13           85359.0               0           0   \n",
       "4933  2020-03-28         13           85359.0               0           0   \n",
       "4934  2020-03-29         14           85359.0               0           0   \n",
       "\n",
       "      obitosAcumulado  obitosNovos  Recuperadosnovos  emAcompanhamentoNovos  \\\n",
       "4929                3            0               NaN                    NaN   \n",
       "4930                3            0               NaN                    NaN   \n",
       "4931                3            0               NaN                    NaN   \n",
       "4932                0            0               NaN                    NaN   \n",
       "4933                0            0               NaN                    NaN   \n",
       "4934                0            0               NaN                    NaN   \n",
       "\n",
       "      interior/metropolitana  \n",
       "4929                     0.0  \n",
       "4930                     0.0  \n",
       "4931                     0.0  \n",
       "4932                     0.0  \n",
       "4933                     0.0  \n",
       "4934                     0.0  "
      ]
     },
     "execution_count": 3,
     "metadata": {},
     "output_type": "execute_result"
    }
   ],
   "source": [
    "JanJul2020_raw.loc[4929:4934, : ]"
   ]
  },
  {
   "cell_type": "markdown",
   "metadata": {},
   "source": [
    "### There are  4000+ rows containg aggregate data corresponding to states, regions, and the country as a whole. Our first step is to drop those.\n",
    "### Our second step is to remove all information not pertaining to mortality. The cell below carries out our first two steps."
   ]
  },
  {
   "cell_type": "code",
   "execution_count": 6,
   "metadata": {},
   "outputs": [
    {
     "data": {
      "text/html": [
       "<div>\n",
       "<style scoped>\n",
       "    .dataframe tbody tr th:only-of-type {\n",
       "        vertical-align: middle;\n",
       "    }\n",
       "\n",
       "    .dataframe tbody tr th {\n",
       "        vertical-align: top;\n",
       "    }\n",
       "\n",
       "    .dataframe thead th {\n",
       "        text-align: right;\n",
       "    }\n",
       "</style>\n",
       "<table border=\"1\" class=\"dataframe\">\n",
       "  <thead>\n",
       "    <tr style=\"text-align: right;\">\n",
       "      <th></th>\n",
       "      <th>City</th>\n",
       "      <th>Date</th>\n",
       "      <th>Population</th>\n",
       "      <th>Total deaths</th>\n",
       "      <th>Total cases</th>\n",
       "    </tr>\n",
       "  </thead>\n",
       "  <tbody>\n",
       "    <tr>\n",
       "      <th>4929</th>\n",
       "      <td>Cabixi</td>\n",
       "      <td>2020-07-29</td>\n",
       "      <td>5312.0</td>\n",
       "      <td>3</td>\n",
       "      <td>44</td>\n",
       "    </tr>\n",
       "    <tr>\n",
       "      <th>4930</th>\n",
       "      <td>Cabixi</td>\n",
       "      <td>2020-07-30</td>\n",
       "      <td>5312.0</td>\n",
       "      <td>3</td>\n",
       "      <td>44</td>\n",
       "    </tr>\n",
       "    <tr>\n",
       "      <th>4931</th>\n",
       "      <td>Cabixi</td>\n",
       "      <td>2020-07-31</td>\n",
       "      <td>5312.0</td>\n",
       "      <td>3</td>\n",
       "      <td>44</td>\n",
       "    </tr>\n",
       "    <tr>\n",
       "      <th>4932</th>\n",
       "      <td>Cacoal</td>\n",
       "      <td>2020-03-27</td>\n",
       "      <td>85359.0</td>\n",
       "      <td>0</td>\n",
       "      <td>0</td>\n",
       "    </tr>\n",
       "    <tr>\n",
       "      <th>4933</th>\n",
       "      <td>Cacoal</td>\n",
       "      <td>2020-03-28</td>\n",
       "      <td>85359.0</td>\n",
       "      <td>0</td>\n",
       "      <td>0</td>\n",
       "    </tr>\n",
       "    <tr>\n",
       "      <th>4934</th>\n",
       "      <td>Cacoal</td>\n",
       "      <td>2020-03-29</td>\n",
       "      <td>85359.0</td>\n",
       "      <td>0</td>\n",
       "      <td>0</td>\n",
       "    </tr>\n",
       "  </tbody>\n",
       "</table>\n",
       "</div>"
      ],
      "text/plain": [
       "        City        Date  Population  Total deaths  Total cases\n",
       "4929  Cabixi  2020-07-29      5312.0             3           44\n",
       "4930  Cabixi  2020-07-30      5312.0             3           44\n",
       "4931  Cabixi  2020-07-31      5312.0             3           44\n",
       "4932  Cacoal  2020-03-27     85359.0             0            0\n",
       "4933  Cacoal  2020-03-28     85359.0             0            0\n",
       "4934  Cacoal  2020-03-29     85359.0             0            0"
      ]
     },
     "execution_count": 6,
     "metadata": {},
     "output_type": "execute_result"
    }
   ],
   "source": [
    "def drop_non_municipalities(df):\n",
    "    return df[df['municipio'].notnull()]\n",
    "\n",
    "def drop_columns(df):\n",
    "    new_df = df.loc[ : , ['municipio', 'data', 'populacaoTCU2019', 'obitosAcumulado', 'casosAcumulado']]\n",
    "    new_df.columns = ['City', 'Date', 'Population', 'Total deaths', 'Total cases']\n",
    "    return new_df\n",
    "\n",
    "JanJul2020_preinterim = drop_columns(drop_non_municipalities(JanJul2020_raw))\n",
    "AugDec2020_preinterim = drop_columns(drop_non_municipalities(AugDec2020_raw))\n",
    "JanJul2021_preinterim = drop_columns(drop_non_municipalities(JanJul2021_raw))\n",
    "\n",
    "JanJul2020_preinterim.loc[4929:4934, : ]"
   ]
  },
  {
   "cell_type": "markdown",
   "metadata": {},
   "source": [
    "### Our third step is to transform total deaths and population into deaths per million (\"death rate\").\n",
    "### This process is very time-consuming and has been commented-out below. The result has been pickled in /data/interim."
   ]
  },
  {
   "cell_type": "code",
   "execution_count": 7,
   "metadata": {},
   "outputs": [],
   "source": [
    "def get_death_rate(df):\n",
    "    death_rate_series = pd.Series([0] * len(df.index))\n",
    "    for index, row in df.iterrows():\n",
    "        death_rate = (int(row['Total deaths']) / int(row['Population'])) * 1000000 \n",
    "        death_rate_series[index] = death_rate\n",
    "    df.loc[ : , 'Death rate'] = death_rate_series\n",
    "    return df\n",
    "\n",
    "\n",
    "def process_and_save(df, filename):\n",
    "    start = time.time()\n",
    "    df = get_death_rate(df)\n",
    "    end = time.time()\n",
    "    print(f'Death rate obtainment time: {end - start} secs')\n",
    "    save_path = 'data' + os.sep + 'interim' + os.sep\n",
    "    df.to_pickle(f'{save_path}{filename}')"
   ]
  },
  {
   "cell_type": "code",
   "execution_count": 9,
   "metadata": {},
   "outputs": [
    {
     "name": "stdout",
     "output_type": "stream",
     "text": [
      "Death rate obtainment time: 493.10004234313965 secs\n"
     ]
    }
   ],
   "source": [
    "process_and_save(JanJul2020_preinterim, 'JanJul2020')\n",
    "# 441 secs"
   ]
  },
  {
   "cell_type": "code",
   "execution_count": 10,
   "metadata": {},
   "outputs": [
    {
     "name": "stdout",
     "output_type": "stream",
     "text": [
      "Death rate obtainment time: 741.1877574920654 secs\n"
     ]
    }
   ],
   "source": [
    "process_and_save(AugDec2020_preinterim, 'AugDec2020')\n",
    "# 1087 secs"
   ]
  },
  {
   "cell_type": "code",
   "execution_count": 11,
   "metadata": {},
   "outputs": [
    {
     "name": "stdout",
     "output_type": "stream",
     "text": [
      "Death rate obtainment time: 945.5933654308319 secs\n"
     ]
    }
   ],
   "source": [
    "process_and_save(JanJul2021_preinterim, 'JanJul2021')\n",
    "# 868 secs"
   ]
  },
  {
   "cell_type": "code",
   "execution_count": 12,
   "metadata": {},
   "outputs": [
    {
     "data": {
      "text/html": [
       "<div>\n",
       "<style scoped>\n",
       "    .dataframe tbody tr th:only-of-type {\n",
       "        vertical-align: middle;\n",
       "    }\n",
       "\n",
       "    .dataframe tbody tr th {\n",
       "        vertical-align: top;\n",
       "    }\n",
       "\n",
       "    .dataframe thead th {\n",
       "        text-align: right;\n",
       "    }\n",
       "</style>\n",
       "<table border=\"1\" class=\"dataframe\">\n",
       "  <thead>\n",
       "    <tr style=\"text-align: right;\">\n",
       "      <th></th>\n",
       "      <th>City</th>\n",
       "      <th>Date</th>\n",
       "      <th>Population</th>\n",
       "      <th>Total deaths</th>\n",
       "      <th>Total cases</th>\n",
       "      <th>Death rate</th>\n",
       "    </tr>\n",
       "  </thead>\n",
       "  <tbody>\n",
       "    <tr>\n",
       "      <th>4551</th>\n",
       "      <td>Alta Floresta D'Oeste</td>\n",
       "      <td>2020-03-27</td>\n",
       "      <td>22945.0</td>\n",
       "      <td>0</td>\n",
       "      <td>0</td>\n",
       "      <td>0.000000</td>\n",
       "    </tr>\n",
       "    <tr>\n",
       "      <th>4552</th>\n",
       "      <td>Alta Floresta D'Oeste</td>\n",
       "      <td>2020-03-28</td>\n",
       "      <td>22945.0</td>\n",
       "      <td>0</td>\n",
       "      <td>0</td>\n",
       "      <td>0.000000</td>\n",
       "    </tr>\n",
       "    <tr>\n",
       "      <th>4553</th>\n",
       "      <td>Alta Floresta D'Oeste</td>\n",
       "      <td>2020-03-29</td>\n",
       "      <td>22945.0</td>\n",
       "      <td>0</td>\n",
       "      <td>0</td>\n",
       "      <td>0.000000</td>\n",
       "    </tr>\n",
       "    <tr>\n",
       "      <th>4554</th>\n",
       "      <td>Alta Floresta D'Oeste</td>\n",
       "      <td>2020-03-30</td>\n",
       "      <td>22945.0</td>\n",
       "      <td>0</td>\n",
       "      <td>0</td>\n",
       "      <td>0.000000</td>\n",
       "    </tr>\n",
       "    <tr>\n",
       "      <th>4555</th>\n",
       "      <td>Alta Floresta D'Oeste</td>\n",
       "      <td>2020-03-31</td>\n",
       "      <td>22945.0</td>\n",
       "      <td>0</td>\n",
       "      <td>0</td>\n",
       "      <td>0.000000</td>\n",
       "    </tr>\n",
       "    <tr>\n",
       "      <th>...</th>\n",
       "      <td>...</td>\n",
       "      <td>...</td>\n",
       "      <td>...</td>\n",
       "      <td>...</td>\n",
       "      <td>...</td>\n",
       "      <td>...</td>\n",
       "    </tr>\n",
       "    <tr>\n",
       "      <th>714476</th>\n",
       "      <td>Brasília</td>\n",
       "      <td>2020-07-27</td>\n",
       "      <td>3015268.0</td>\n",
       "      <td>1339</td>\n",
       "      <td>98480</td>\n",
       "      <td>444.073296</td>\n",
       "    </tr>\n",
       "    <tr>\n",
       "      <th>714477</th>\n",
       "      <td>Brasília</td>\n",
       "      <td>2020-07-28</td>\n",
       "      <td>3015268.0</td>\n",
       "      <td>1391</td>\n",
       "      <td>100726</td>\n",
       "      <td>461.318861</td>\n",
       "    </tr>\n",
       "    <tr>\n",
       "      <th>714478</th>\n",
       "      <td>Brasília</td>\n",
       "      <td>2020-07-29</td>\n",
       "      <td>3015268.0</td>\n",
       "      <td>1419</td>\n",
       "      <td>102342</td>\n",
       "      <td>470.604935</td>\n",
       "    </tr>\n",
       "    <tr>\n",
       "      <th>714479</th>\n",
       "      <td>Brasília</td>\n",
       "      <td>2020-07-30</td>\n",
       "      <td>3015268.0</td>\n",
       "      <td>1444</td>\n",
       "      <td>104442</td>\n",
       "      <td>478.896072</td>\n",
       "    </tr>\n",
       "    <tr>\n",
       "      <th>714480</th>\n",
       "      <td>Brasília</td>\n",
       "      <td>2020-07-31</td>\n",
       "      <td>3015268.0</td>\n",
       "      <td>1469</td>\n",
       "      <td>106292</td>\n",
       "      <td>487.187209</td>\n",
       "    </tr>\n",
       "  </tbody>\n",
       "</table>\n",
       "<p>707390 rows × 6 columns</p>\n",
       "</div>"
      ],
      "text/plain": [
       "                         City        Date  Population  Total deaths  \\\n",
       "4551    Alta Floresta D'Oeste  2020-03-27     22945.0             0   \n",
       "4552    Alta Floresta D'Oeste  2020-03-28     22945.0             0   \n",
       "4553    Alta Floresta D'Oeste  2020-03-29     22945.0             0   \n",
       "4554    Alta Floresta D'Oeste  2020-03-30     22945.0             0   \n",
       "4555    Alta Floresta D'Oeste  2020-03-31     22945.0             0   \n",
       "...                       ...         ...         ...           ...   \n",
       "714476               Brasília  2020-07-27   3015268.0          1339   \n",
       "714477               Brasília  2020-07-28   3015268.0          1391   \n",
       "714478               Brasília  2020-07-29   3015268.0          1419   \n",
       "714479               Brasília  2020-07-30   3015268.0          1444   \n",
       "714480               Brasília  2020-07-31   3015268.0          1469   \n",
       "\n",
       "        Total cases  Death rate  \n",
       "4551              0    0.000000  \n",
       "4552              0    0.000000  \n",
       "4553              0    0.000000  \n",
       "4554              0    0.000000  \n",
       "4555              0    0.000000  \n",
       "...             ...         ...  \n",
       "714476        98480  444.073296  \n",
       "714477       100726  461.318861  \n",
       "714478       102342  470.604935  \n",
       "714479       104442  478.896072  \n",
       "714480       106292  487.187209  \n",
       "\n",
       "[707390 rows x 6 columns]"
      ]
     },
     "execution_count": 12,
     "metadata": {},
     "output_type": "execute_result"
    }
   ],
   "source": [
    "save_path = 'data' + os.sep + 'interim' + os.sep\n",
    "JanJul2020_interim = pd.read_pickle(f'{save_path}JanJul2020')\n",
    "AugDec2020_interim = pd.read_pickle(f'{save_path}AugDec2020')\n",
    "JanJul2021_interim = pd.read_pickle(f'{save_path}JanJul2021')\n",
    "JanJul2020_interim"
   ]
  },
  {
   "cell_type": "markdown",
   "metadata": {},
   "source": [
    "### We wish to query the DataFrame informing a city and a date, obtaining the accumulated death rate in return. A MultiIndex DataFrame is used for this purpose."
   ]
  },
  {
   "cell_type": "code",
   "execution_count": 13,
   "metadata": {},
   "outputs": [
    {
     "name": "stdout",
     "output_type": "stream",
     "text": [
      "MultiIndex obtainment time: 3.6557252407073975 secs\n"
     ]
    }
   ],
   "source": [
    "def get_MultiIndex(df):\n",
    "    cities = df['City'].unique()\n",
    "    dates = df['Date'].unique()\n",
    "    tuples = list(zip(df['City'], df['Date']))\n",
    "    return pd.MultiIndex.from_tuples(tuples, names=['City', 'Date'])\n",
    "\n",
    "start = time.time()\n",
    "JanJul2020_MultiIndex = get_MultiIndex(JanJul2020_interim)\n",
    "AugDec2020_MultiIndex = get_MultiIndex(AugDec2020_interim)\n",
    "JanJul2021_MultiIndex = get_MultiIndex(JanJul2021_interim)\n",
    "end = time.time()\n",
    "print(f'MultiIndex obtainment time: {end - start} secs')"
   ]
  },
  {
   "cell_type": "code",
   "execution_count": 24,
   "metadata": {},
   "outputs": [
    {
     "data": {
      "text/plain": [
       "array([[2.29450000e+04, 0.00000000e+00, 0.00000000e+00, 0.00000000e+00],\n",
       "       [2.29450000e+04, 0.00000000e+00, 0.00000000e+00, 0.00000000e+00],\n",
       "       [2.29450000e+04, 0.00000000e+00, 0.00000000e+00, 0.00000000e+00],\n",
       "       ...,\n",
       "       [3.01526800e+06, 1.41900000e+03, 1.02342000e+05, 4.70604935e+02],\n",
       "       [3.01526800e+06, 1.44400000e+03, 1.04442000e+05, 4.78896072e+02],\n",
       "       [3.01526800e+06, 1.46900000e+03, 1.06292000e+05, 4.87187209e+02]])"
      ]
     },
     "execution_count": 24,
     "metadata": {},
     "output_type": "execute_result"
    }
   ],
   "source": [
    "JanJul2020_interim.loc[ : , ['Population', 'Total deaths', 'Total cases', 'Death rate']].to_numpy()"
   ]
  },
  {
   "cell_type": "code",
   "execution_count": 25,
   "metadata": {},
   "outputs": [
    {
     "name": "stdout",
     "output_type": "stream",
     "text": [
      "MultiIndex DataFrame obtainment time: 0.1375277042388916 secs\n"
     ]
    }
   ],
   "source": [
    "def df_constructor(df, multi_index):\n",
    "    return pd.DataFrame(data=df.loc[ : , ['Population', 'Total deaths', 'Total cases', 'Death rate']].to_numpy(), index=multi_index, columns=['Population', 'Total deaths', 'Total cases', 'Death rate'])\n",
    "\n",
    "start = time.time()\n",
    "JanJul2020 = df_constructor(JanJul2020_interim, JanJul2020_MultiIndex)\n",
    "AugDec2020 = df_constructor(AugDec2020_interim, AugDec2020_MultiIndex)\n",
    "JanJul2021 = df_constructor(JanJul2021_interim, JanJul2021_MultiIndex)\n",
    "end = time.time()\n",
    "print(f'MultiIndex DataFrame obtainment time: {end - start} secs')"
   ]
  },
  {
   "cell_type": "code",
   "execution_count": 26,
   "metadata": {},
   "outputs": [
    {
     "data": {
      "text/html": [
       "<div>\n",
       "<style scoped>\n",
       "    .dataframe tbody tr th:only-of-type {\n",
       "        vertical-align: middle;\n",
       "    }\n",
       "\n",
       "    .dataframe tbody tr th {\n",
       "        vertical-align: top;\n",
       "    }\n",
       "\n",
       "    .dataframe thead th {\n",
       "        text-align: right;\n",
       "    }\n",
       "</style>\n",
       "<table border=\"1\" class=\"dataframe\">\n",
       "  <thead>\n",
       "    <tr style=\"text-align: right;\">\n",
       "      <th></th>\n",
       "      <th></th>\n",
       "      <th>Population</th>\n",
       "      <th>Total deaths</th>\n",
       "      <th>Total cases</th>\n",
       "      <th>Death rate</th>\n",
       "    </tr>\n",
       "    <tr>\n",
       "      <th>City</th>\n",
       "      <th>Date</th>\n",
       "      <th></th>\n",
       "      <th></th>\n",
       "      <th></th>\n",
       "      <th></th>\n",
       "    </tr>\n",
       "  </thead>\n",
       "  <tbody>\n",
       "    <tr>\n",
       "      <th rowspan=\"5\" valign=\"top\">Alta Floresta D'Oeste</th>\n",
       "      <th>2020-03-27</th>\n",
       "      <td>22945.0</td>\n",
       "      <td>0.0</td>\n",
       "      <td>0.0</td>\n",
       "      <td>0.000000</td>\n",
       "    </tr>\n",
       "    <tr>\n",
       "      <th>2020-03-28</th>\n",
       "      <td>22945.0</td>\n",
       "      <td>0.0</td>\n",
       "      <td>0.0</td>\n",
       "      <td>0.000000</td>\n",
       "    </tr>\n",
       "    <tr>\n",
       "      <th>2020-03-29</th>\n",
       "      <td>22945.0</td>\n",
       "      <td>0.0</td>\n",
       "      <td>0.0</td>\n",
       "      <td>0.000000</td>\n",
       "    </tr>\n",
       "    <tr>\n",
       "      <th>2020-03-30</th>\n",
       "      <td>22945.0</td>\n",
       "      <td>0.0</td>\n",
       "      <td>0.0</td>\n",
       "      <td>0.000000</td>\n",
       "    </tr>\n",
       "    <tr>\n",
       "      <th>2020-03-31</th>\n",
       "      <td>22945.0</td>\n",
       "      <td>0.0</td>\n",
       "      <td>0.0</td>\n",
       "      <td>0.000000</td>\n",
       "    </tr>\n",
       "    <tr>\n",
       "      <th>...</th>\n",
       "      <th>...</th>\n",
       "      <td>...</td>\n",
       "      <td>...</td>\n",
       "      <td>...</td>\n",
       "      <td>...</td>\n",
       "    </tr>\n",
       "    <tr>\n",
       "      <th rowspan=\"5\" valign=\"top\">Brasília</th>\n",
       "      <th>2020-07-27</th>\n",
       "      <td>3015268.0</td>\n",
       "      <td>1339.0</td>\n",
       "      <td>98480.0</td>\n",
       "      <td>444.073296</td>\n",
       "    </tr>\n",
       "    <tr>\n",
       "      <th>2020-07-28</th>\n",
       "      <td>3015268.0</td>\n",
       "      <td>1391.0</td>\n",
       "      <td>100726.0</td>\n",
       "      <td>461.318861</td>\n",
       "    </tr>\n",
       "    <tr>\n",
       "      <th>2020-07-29</th>\n",
       "      <td>3015268.0</td>\n",
       "      <td>1419.0</td>\n",
       "      <td>102342.0</td>\n",
       "      <td>470.604935</td>\n",
       "    </tr>\n",
       "    <tr>\n",
       "      <th>2020-07-30</th>\n",
       "      <td>3015268.0</td>\n",
       "      <td>1444.0</td>\n",
       "      <td>104442.0</td>\n",
       "      <td>478.896072</td>\n",
       "    </tr>\n",
       "    <tr>\n",
       "      <th>2020-07-31</th>\n",
       "      <td>3015268.0</td>\n",
       "      <td>1469.0</td>\n",
       "      <td>106292.0</td>\n",
       "      <td>487.187209</td>\n",
       "    </tr>\n",
       "  </tbody>\n",
       "</table>\n",
       "<p>707390 rows × 4 columns</p>\n",
       "</div>"
      ],
      "text/plain": [
       "                                  Population  Total deaths  Total cases  \\\n",
       "City                  Date                                                \n",
       "Alta Floresta D'Oeste 2020-03-27     22945.0           0.0          0.0   \n",
       "                      2020-03-28     22945.0           0.0          0.0   \n",
       "                      2020-03-29     22945.0           0.0          0.0   \n",
       "                      2020-03-30     22945.0           0.0          0.0   \n",
       "                      2020-03-31     22945.0           0.0          0.0   \n",
       "...                                      ...           ...          ...   \n",
       "Brasília              2020-07-27   3015268.0        1339.0      98480.0   \n",
       "                      2020-07-28   3015268.0        1391.0     100726.0   \n",
       "                      2020-07-29   3015268.0        1419.0     102342.0   \n",
       "                      2020-07-30   3015268.0        1444.0     104442.0   \n",
       "                      2020-07-31   3015268.0        1469.0     106292.0   \n",
       "\n",
       "                                  Death rate  \n",
       "City                  Date                    \n",
       "Alta Floresta D'Oeste 2020-03-27    0.000000  \n",
       "                      2020-03-28    0.000000  \n",
       "                      2020-03-29    0.000000  \n",
       "                      2020-03-30    0.000000  \n",
       "                      2020-03-31    0.000000  \n",
       "...                                      ...  \n",
       "Brasília              2020-07-27  444.073296  \n",
       "                      2020-07-28  461.318861  \n",
       "                      2020-07-29  470.604935  \n",
       "                      2020-07-30  478.896072  \n",
       "                      2020-07-31  487.187209  \n",
       "\n",
       "[707390 rows x 4 columns]"
      ]
     },
     "execution_count": 26,
     "metadata": {},
     "output_type": "execute_result"
    }
   ],
   "source": [
    "JanJul2020"
   ]
  },
  {
   "cell_type": "markdown",
   "metadata": {},
   "source": [
    "### Now that we have our final database, we can easily obtain death rate information."
   ]
  },
  {
   "cell_type": "code",
   "execution_count": 27,
   "metadata": {},
   "outputs": [
    {
     "data": {
      "text/plain": [
       "478.8960715929729"
      ]
     },
     "execution_count": 27,
     "metadata": {},
     "output_type": "execute_result"
    }
   ],
   "source": [
    "def get_value(df, place, date):\n",
    "    return df.loc[place].loc[date]['Death rate']\n",
    "\n",
    "get_value(JanJul2020, 'Brasília', '2020-07-30')"
   ]
  },
  {
   "cell_type": "markdown",
   "metadata": {},
   "source": [
    "### We finish by saving our results."
   ]
  },
  {
   "cell_type": "code",
   "execution_count": 28,
   "metadata": {},
   "outputs": [],
   "source": [
    "save_path = 'data' + os.sep + 'processed' + os.sep\n",
    "JanJul2020.to_pickle(f'{save_path}JanJul2020')\n",
    "AugDec2020.to_pickle(f'{save_path}AugDec2020')\n",
    "JanJul2021.to_pickle(f'{save_path}JanJul2021')"
   ]
  },
  {
   "cell_type": "markdown",
   "metadata": {},
   "source": [
    "# Problem in the original database.\n",
    "### There is, however, something funny in the original database. In the raw, original CSV databases for AugDec2020 and JanJul2021, some rows were dislodged one column to the left. This led us to obtain nonsensical dates and absurd death rates (over 10 million deaths per million inhabitants). Here is an example."
   ]
  },
  {
   "cell_type": "code",
   "execution_count": 29,
   "metadata": {},
   "outputs": [
    {
     "data": {
      "text/html": [
       "<div>\n",
       "<style scoped>\n",
       "    .dataframe tbody tr th:only-of-type {\n",
       "        vertical-align: middle;\n",
       "    }\n",
       "\n",
       "    .dataframe tbody tr th {\n",
       "        vertical-align: top;\n",
       "    }\n",
       "\n",
       "    .dataframe thead th {\n",
       "        text-align: right;\n",
       "    }\n",
       "</style>\n",
       "<table border=\"1\" class=\"dataframe\">\n",
       "  <thead>\n",
       "    <tr style=\"text-align: right;\">\n",
       "      <th></th>\n",
       "      <th>Population</th>\n",
       "      <th>Total deaths</th>\n",
       "      <th>Total cases</th>\n",
       "      <th>Death rate</th>\n",
       "    </tr>\n",
       "    <tr>\n",
       "      <th>Date</th>\n",
       "      <th></th>\n",
       "      <th></th>\n",
       "      <th></th>\n",
       "      <th></th>\n",
       "    </tr>\n",
       "  </thead>\n",
       "  <tbody>\n",
       "    <tr>\n",
       "      <th>ENTORNO E ALTO RIO NEGRO</th>\n",
       "      <td>31.0</td>\n",
       "      <td>395.0</td>\n",
       "      <td>2182763.0</td>\n",
       "      <td>12741935.0</td>\n",
       "    </tr>\n",
       "    <tr>\n",
       "      <th>ENTORNO E ALTO RIO NEGRO</th>\n",
       "      <td>32.0</td>\n",
       "      <td>43.0</td>\n",
       "      <td>2182763.0</td>\n",
       "      <td>1343750.0</td>\n",
       "    </tr>\n",
       "    <tr>\n",
       "      <th>ENTORNO E ALTO RIO NEGRO</th>\n",
       "      <td>32.0</td>\n",
       "      <td>22.0</td>\n",
       "      <td>2182763.0</td>\n",
       "      <td>687500.0</td>\n",
       "    </tr>\n",
       "    <tr>\n",
       "      <th>ENTORNO E ALTO RIO NEGRO</th>\n",
       "      <td>32.0</td>\n",
       "      <td>347.0</td>\n",
       "      <td>2182763.0</td>\n",
       "      <td>10843750.0</td>\n",
       "    </tr>\n",
       "    <tr>\n",
       "      <th>ENTORNO E ALTO RIO NEGRO</th>\n",
       "      <td>32.0</td>\n",
       "      <td>272.0</td>\n",
       "      <td>2182763.0</td>\n",
       "      <td>8500000.0</td>\n",
       "    </tr>\n",
       "  </tbody>\n",
       "</table>\n",
       "</div>"
      ],
      "text/plain": [
       "                           Population  Total deaths  Total cases  Death rate\n",
       "Date                                                                        \n",
       " ENTORNO E ALTO RIO NEGRO        31.0         395.0    2182763.0  12741935.0\n",
       " ENTORNO E ALTO RIO NEGRO        32.0          43.0    2182763.0   1343750.0\n",
       " ENTORNO E ALTO RIO NEGRO        32.0          22.0    2182763.0    687500.0\n",
       " ENTORNO E ALTO RIO NEGRO        32.0         347.0    2182763.0  10843750.0\n",
       " ENTORNO E ALTO RIO NEGRO        32.0         272.0    2182763.0   8500000.0"
      ]
     },
     "execution_count": 29,
     "metadata": {},
     "output_type": "execute_result"
    }
   ],
   "source": [
    "AugDec2020.loc['Manaus'].head(5)"
   ]
  },
  {
   "cell_type": "markdown",
   "metadata": {},
   "source": [
    "### To fix this, let us get a list of all municipalities containing bad date formats."
   ]
  },
  {
   "cell_type": "code",
   "execution_count": 30,
   "metadata": {},
   "outputs": [],
   "source": [
    "def get_bad_cities(df):\n",
    "    dates  = df.index.levels[1]\n",
    "    bad_dates = list()\n",
    "    for date in dates:\n",
    "        if not date[0].isdigit():\n",
    "            bad_dates.append(date)\n",
    "    cities = df.index.levels[0]\n",
    "    bad_cities = list()\n",
    "    for bad_date in bad_dates:\n",
    "        for city in cities:\n",
    "            try:\n",
    "                df.loc[city].loc[bad_date]\n",
    "                bad_cities.append(city)\n",
    "            except:\n",
    "                pass\n",
    "    return bad_cities"
   ]
  },
  {
   "cell_type": "code",
   "execution_count": 31,
   "metadata": {},
   "outputs": [
    {
     "name": "stdout",
     "output_type": "stream",
     "text": [
      "Bad cities for Jan-Jul 2020: []\n",
      "Bad cities for Aug-Dec 2020: ['Autazes', 'Barcelos', 'Careiro', 'Careiro da Várzea', 'Iranduba', 'Manaquiri', 'Manaus', 'Nova Olinda do Norte', 'Presidente Figueiredo', 'Rio Preto da Eva', 'Santa Isabel do Rio Negro', 'São Gabriel da Cachoeira']\n",
      "Bad cities for Jan-Jul 2021: ['Autazes', 'Barcelos', 'Careiro', 'Careiro da Várzea', 'Iranduba', 'Manaquiri', 'Manaus', 'Nova Olinda do Norte', 'Presidente Figueiredo', 'Rio Preto da Eva', 'Santa Isabel do Rio Negro', 'São Gabriel da Cachoeira']\n"
     ]
    }
   ],
   "source": [
    "JanJul2020_badcitylist = get_bad_cities(JanJul2020)\n",
    "AugDec2020_badcitylist = get_bad_cities(AugDec2020)\n",
    "JanJul2021_badcitylist = get_bad_cities(JanJul2021)\n",
    "print(f\"Bad cities for Jan-Jul 2020: {JanJul2020_badcitylist}\")\n",
    "print(f\"Bad cities for Aug-Dec 2020: {AugDec2020_badcitylist}\")\n",
    "print(f\"Bad cities for Jan-Jul 2021: {JanJul2021_badcitylist}\")"
   ]
  },
  {
   "cell_type": "markdown",
   "metadata": {},
   "source": [
    "### We can now extract the original data for exactly those cities."
   ]
  },
  {
   "cell_type": "code",
   "execution_count": 32,
   "metadata": {},
   "outputs": [],
   "source": [
    "def get_correct_df(df, badcitylist):\n",
    "    df_good = pd.DataFrame()\n",
    "    for bad_city in badcitylist:\n",
    "        df_subset = df[df['municipio'] == bad_city]\n",
    "        df_good = df_good.append(df_subset)\n",
    "    return df_good"
   ]
  },
  {
   "cell_type": "code",
   "execution_count": 33,
   "metadata": {},
   "outputs": [
    {
     "data": {
      "text/html": [
       "<div>\n",
       "<style scoped>\n",
       "    .dataframe tbody tr th:only-of-type {\n",
       "        vertical-align: middle;\n",
       "    }\n",
       "\n",
       "    .dataframe tbody tr th {\n",
       "        vertical-align: top;\n",
       "    }\n",
       "\n",
       "    .dataframe thead th {\n",
       "        text-align: right;\n",
       "    }\n",
       "</style>\n",
       "<table border=\"1\" class=\"dataframe\">\n",
       "  <thead>\n",
       "    <tr style=\"text-align: right;\">\n",
       "      <th></th>\n",
       "      <th>regiao</th>\n",
       "      <th>estado</th>\n",
       "      <th>municipio</th>\n",
       "      <th>coduf</th>\n",
       "      <th>codmun</th>\n",
       "      <th>codRegiaoSaude</th>\n",
       "      <th>nomeRegiaoSaude</th>\n",
       "      <th>data</th>\n",
       "      <th>semanaEpi</th>\n",
       "      <th>populacaoTCU2019</th>\n",
       "      <th>casosAcumulado</th>\n",
       "      <th>casosNovos</th>\n",
       "      <th>obitosAcumulado</th>\n",
       "      <th>obitosNovos</th>\n",
       "      <th>Recuperadosnovos</th>\n",
       "      <th>emAcompanhamentoNovos</th>\n",
       "      <th>interior/metropolitana</th>\n",
       "      <th>Unnamed: 17</th>\n",
       "    </tr>\n",
       "  </thead>\n",
       "  <tbody>\n",
       "    <tr>\n",
       "      <th>16678</th>\n",
       "      <td>Norte</td>\n",
       "      <td>AM</td>\n",
       "      <td>Autazes</td>\n",
       "      <td>13</td>\n",
       "      <td>130030.0</td>\n",
       "      <td>13001.0</td>\n",
       "      <td>MANAUS</td>\n",
       "      <td>ENTORNO E ALTO RIO NEGRO</td>\n",
       "      <td>2020-08-01</td>\n",
       "      <td>31.0</td>\n",
       "      <td>39565</td>\n",
       "      <td>1160</td>\n",
       "      <td>3</td>\n",
       "      <td>35</td>\n",
       "      <td>0.0</td>\n",
       "      <td>NaN</td>\n",
       "      <td>NaN</td>\n",
       "      <td>1.0</td>\n",
       "    </tr>\n",
       "  </tbody>\n",
       "</table>\n",
       "</div>"
      ],
      "text/plain": [
       "      regiao estado municipio  coduf    codmun  codRegiaoSaude  \\\n",
       "16678  Norte     AM   Autazes     13  130030.0         13001.0   \n",
       "\n",
       "      nomeRegiaoSaude                       data   semanaEpi  \\\n",
       "16678          MANAUS   ENTORNO E ALTO RIO NEGRO  2020-08-01   \n",
       "\n",
       "       populacaoTCU2019  casosAcumulado  casosNovos  obitosAcumulado  \\\n",
       "16678              31.0           39565        1160                3   \n",
       "\n",
       "       obitosNovos  Recuperadosnovos  emAcompanhamentoNovos  \\\n",
       "16678           35               0.0                    NaN   \n",
       "\n",
       "       interior/metropolitana  Unnamed: 17  \n",
       "16678                     NaN          1.0  "
      ]
     },
     "execution_count": 33,
     "metadata": {},
     "output_type": "execute_result"
    }
   ],
   "source": [
    "AugDec2020_badcities = get_correct_df(AugDec2020_raw, AugDec2020_badcitylist)\n",
    "JanJul2021_badcities = get_correct_df(JanJul2021_raw, JanJul2021_badcitylist)\n",
    "AugDec2020_badcities.head(1)"
   ]
  },
  {
   "cell_type": "markdown",
   "metadata": {},
   "source": [
    "### We again drop columns containing data irrelevant for us, but now taking into account that the data is shifted to the right."
   ]
  },
  {
   "cell_type": "code",
   "execution_count": 34,
   "metadata": {},
   "outputs": [
    {
     "data": {
      "text/html": [
       "<div>\n",
       "<style scoped>\n",
       "    .dataframe tbody tr th:only-of-type {\n",
       "        vertical-align: middle;\n",
       "    }\n",
       "\n",
       "    .dataframe tbody tr th {\n",
       "        vertical-align: top;\n",
       "    }\n",
       "\n",
       "    .dataframe thead th {\n",
       "        text-align: right;\n",
       "    }\n",
       "</style>\n",
       "<table border=\"1\" class=\"dataframe\">\n",
       "  <thead>\n",
       "    <tr style=\"text-align: right;\">\n",
       "      <th></th>\n",
       "      <th>City</th>\n",
       "      <th>Date</th>\n",
       "      <th>Population</th>\n",
       "      <th>Total cases</th>\n",
       "      <th>Total deaths</th>\n",
       "    </tr>\n",
       "  </thead>\n",
       "  <tbody>\n",
       "    <tr>\n",
       "      <th>16678</th>\n",
       "      <td>Autazes</td>\n",
       "      <td>2020-08-01</td>\n",
       "      <td>39565</td>\n",
       "      <td>1160</td>\n",
       "      <td>35</td>\n",
       "    </tr>\n",
       "  </tbody>\n",
       "</table>\n",
       "</div>"
      ],
      "text/plain": [
       "          City        Date  Population  Total cases  Total deaths\n",
       "16678  Autazes  2020-08-01       39565         1160            35"
      ]
     },
     "execution_count": 34,
     "metadata": {},
     "output_type": "execute_result"
    }
   ],
   "source": [
    "def drop_columns_2(df):\n",
    "    new_df = df.loc[ : , ['municipio', 'semanaEpi', 'casosAcumulado', 'casosNovos', 'obitosNovos']]\n",
    "    new_df.columns = ['City', 'Date', 'Population', 'Total cases', 'Total deaths']\n",
    "    return new_df\n",
    "\n",
    "AugDec2020_preinterim_badcities = drop_columns_2(AugDec2020_badcities)\n",
    "JanJul2021_preinterim_badcities = drop_columns_2(JanJul2021_badcities)\n",
    "AugDec2020_preinterim_badcities.head(1)"
   ]
  },
  {
   "cell_type": "markdown",
   "metadata": {},
   "source": [
    "### We now obtain the correct dates and death rates and create a MultiIndex DataFrame."
   ]
  },
  {
   "cell_type": "code",
   "execution_count": 35,
   "metadata": {},
   "outputs": [
    {
     "data": {
      "text/html": [
       "<div>\n",
       "<style scoped>\n",
       "    .dataframe tbody tr th:only-of-type {\n",
       "        vertical-align: middle;\n",
       "    }\n",
       "\n",
       "    .dataframe tbody tr th {\n",
       "        vertical-align: top;\n",
       "    }\n",
       "\n",
       "    .dataframe thead th {\n",
       "        text-align: right;\n",
       "    }\n",
       "</style>\n",
       "<table border=\"1\" class=\"dataframe\">\n",
       "  <thead>\n",
       "    <tr style=\"text-align: right;\">\n",
       "      <th></th>\n",
       "      <th>City</th>\n",
       "      <th>Date</th>\n",
       "      <th>Population</th>\n",
       "      <th>Total cases</th>\n",
       "      <th>Total deaths</th>\n",
       "      <th>Death rate</th>\n",
       "    </tr>\n",
       "  </thead>\n",
       "  <tbody>\n",
       "    <tr>\n",
       "      <th>16678</th>\n",
       "      <td>Autazes</td>\n",
       "      <td>2020-08-01</td>\n",
       "      <td>39565</td>\n",
       "      <td>1160</td>\n",
       "      <td>35</td>\n",
       "      <td>884.620245</td>\n",
       "    </tr>\n",
       "  </tbody>\n",
       "</table>\n",
       "</div>"
      ],
      "text/plain": [
       "          City        Date  Population  Total cases  Total deaths  Death rate\n",
       "16678  Autazes  2020-08-01       39565         1160            35  884.620245"
      ]
     },
     "execution_count": 35,
     "metadata": {},
     "output_type": "execute_result"
    }
   ],
   "source": [
    "AugDec2020_interim_badcities = get_death_rate(AugDec2020_preinterim_badcities)\n",
    "JanJul2021_interim_badcities = get_death_rate(JanJul2021_preinterim_badcities)\n",
    "AugDec2020_interim_badcities.head(1)"
   ]
  },
  {
   "cell_type": "code",
   "execution_count": 36,
   "metadata": {},
   "outputs": [],
   "source": [
    "AugDec2020_MultiIndex_badcities = get_MultiIndex(AugDec2020_interim_badcities)\n",
    "JanJul2021_MultiIndex_badcities = get_MultiIndex(JanJul2021_interim_badcities)"
   ]
  },
  {
   "cell_type": "code",
   "execution_count": 37,
   "metadata": {},
   "outputs": [
    {
     "data": {
      "text/html": [
       "<div>\n",
       "<style scoped>\n",
       "    .dataframe tbody tr th:only-of-type {\n",
       "        vertical-align: middle;\n",
       "    }\n",
       "\n",
       "    .dataframe tbody tr th {\n",
       "        vertical-align: top;\n",
       "    }\n",
       "\n",
       "    .dataframe thead th {\n",
       "        text-align: right;\n",
       "    }\n",
       "</style>\n",
       "<table border=\"1\" class=\"dataframe\">\n",
       "  <thead>\n",
       "    <tr style=\"text-align: right;\">\n",
       "      <th></th>\n",
       "      <th></th>\n",
       "      <th>Population</th>\n",
       "      <th>Total deaths</th>\n",
       "      <th>Total cases</th>\n",
       "      <th>Death rate</th>\n",
       "    </tr>\n",
       "    <tr>\n",
       "      <th>City</th>\n",
       "      <th>Date</th>\n",
       "      <th></th>\n",
       "      <th></th>\n",
       "      <th></th>\n",
       "      <th></th>\n",
       "    </tr>\n",
       "  </thead>\n",
       "  <tbody>\n",
       "    <tr>\n",
       "      <th rowspan=\"5\" valign=\"top\">Autazes</th>\n",
       "      <th>2020-08-01</th>\n",
       "      <td>39565.0</td>\n",
       "      <td>35.0</td>\n",
       "      <td>1160.0</td>\n",
       "      <td>884.620245</td>\n",
       "    </tr>\n",
       "    <tr>\n",
       "      <th>2020-08-02</th>\n",
       "      <td>39565.0</td>\n",
       "      <td>35.0</td>\n",
       "      <td>1160.0</td>\n",
       "      <td>884.620245</td>\n",
       "    </tr>\n",
       "    <tr>\n",
       "      <th>2020-08-03</th>\n",
       "      <td>39565.0</td>\n",
       "      <td>35.0</td>\n",
       "      <td>1160.0</td>\n",
       "      <td>884.620245</td>\n",
       "    </tr>\n",
       "    <tr>\n",
       "      <th>2020-08-04</th>\n",
       "      <td>39565.0</td>\n",
       "      <td>35.0</td>\n",
       "      <td>1163.0</td>\n",
       "      <td>884.620245</td>\n",
       "    </tr>\n",
       "    <tr>\n",
       "      <th>2020-08-05</th>\n",
       "      <td>39565.0</td>\n",
       "      <td>36.0</td>\n",
       "      <td>1175.0</td>\n",
       "      <td>909.895109</td>\n",
       "    </tr>\n",
       "  </tbody>\n",
       "</table>\n",
       "</div>"
      ],
      "text/plain": [
       "                    Population  Total deaths  Total cases  Death rate\n",
       "City    Date                                                         \n",
       "Autazes 2020-08-01     39565.0          35.0       1160.0  884.620245\n",
       "        2020-08-02     39565.0          35.0       1160.0  884.620245\n",
       "        2020-08-03     39565.0          35.0       1160.0  884.620245\n",
       "        2020-08-04     39565.0          35.0       1163.0  884.620245\n",
       "        2020-08-05     39565.0          36.0       1175.0  909.895109"
      ]
     },
     "execution_count": 37,
     "metadata": {},
     "output_type": "execute_result"
    }
   ],
   "source": [
    "AugDec2020_badcities_final = df_constructor(AugDec2020_interim_badcities, AugDec2020_MultiIndex_badcities)\n",
    "JanJul2021_badcities_final = df_constructor(JanJul2021_interim_badcities, JanJul2021_MultiIndex_badcities)\n",
    "AugDec2020_badcities_final.head(5)"
   ]
  },
  {
   "cell_type": "markdown",
   "metadata": {},
   "source": [
    "### We end by appending the new, correct DataFrame to our previous one, and dropping the rows containing incorrect data."
   ]
  },
  {
   "cell_type": "code",
   "execution_count": 38,
   "metadata": {},
   "outputs": [
    {
     "data": {
      "text/html": [
       "<div>\n",
       "<style scoped>\n",
       "    .dataframe tbody tr th:only-of-type {\n",
       "        vertical-align: middle;\n",
       "    }\n",
       "\n",
       "    .dataframe tbody tr th {\n",
       "        vertical-align: top;\n",
       "    }\n",
       "\n",
       "    .dataframe thead th {\n",
       "        text-align: right;\n",
       "    }\n",
       "</style>\n",
       "<table border=\"1\" class=\"dataframe\">\n",
       "  <thead>\n",
       "    <tr style=\"text-align: right;\">\n",
       "      <th></th>\n",
       "      <th>Population</th>\n",
       "      <th>Total deaths</th>\n",
       "      <th>Total cases</th>\n",
       "      <th>Death rate</th>\n",
       "    </tr>\n",
       "    <tr>\n",
       "      <th>Date</th>\n",
       "      <th></th>\n",
       "      <th></th>\n",
       "      <th></th>\n",
       "      <th></th>\n",
       "    </tr>\n",
       "  </thead>\n",
       "  <tbody>\n",
       "    <tr>\n",
       "      <th>2020-08-01</th>\n",
       "      <td>2182763.0</td>\n",
       "      <td>2016.0</td>\n",
       "      <td>35987.0</td>\n",
       "      <td>923.600043</td>\n",
       "    </tr>\n",
       "    <tr>\n",
       "      <th>2020-08-02</th>\n",
       "      <td>2182763.0</td>\n",
       "      <td>2019.0</td>\n",
       "      <td>36030.0</td>\n",
       "      <td>924.974448</td>\n",
       "    </tr>\n",
       "    <tr>\n",
       "      <th>2020-08-03</th>\n",
       "      <td>2182763.0</td>\n",
       "      <td>2021.0</td>\n",
       "      <td>36052.0</td>\n",
       "      <td>925.890717</td>\n",
       "    </tr>\n",
       "    <tr>\n",
       "      <th>2020-08-04</th>\n",
       "      <td>2182763.0</td>\n",
       "      <td>2027.0</td>\n",
       "      <td>36399.0</td>\n",
       "      <td>928.639527</td>\n",
       "    </tr>\n",
       "    <tr>\n",
       "      <th>2020-08-05</th>\n",
       "      <td>2182763.0</td>\n",
       "      <td>2036.0</td>\n",
       "      <td>36671.0</td>\n",
       "      <td>932.762742</td>\n",
       "    </tr>\n",
       "  </tbody>\n",
       "</table>\n",
       "</div>"
      ],
      "text/plain": [
       "            Population  Total deaths  Total cases  Death rate\n",
       "Date                                                         \n",
       "2020-08-01   2182763.0        2016.0      35987.0  923.600043\n",
       "2020-08-02   2182763.0        2019.0      36030.0  924.974448\n",
       "2020-08-03   2182763.0        2021.0      36052.0  925.890717\n",
       "2020-08-04   2182763.0        2027.0      36399.0  928.639527\n",
       "2020-08-05   2182763.0        2036.0      36671.0  932.762742"
      ]
     },
     "execution_count": 38,
     "metadata": {},
     "output_type": "execute_result"
    }
   ],
   "source": [
    "AugDec2020 = AugDec2020.append(AugDec2020_badcities_final)\n",
    "JanJul2021 = JanJul2021.append(JanJul2021_badcities_final)\n",
    "\n",
    "AugDec2020 = AugDec2020.drop(' ENTORNO E ALTO RIO NEGRO', level='Date')\n",
    "JanJul2021 = JanJul2021.drop(' ENTORNO E ALTO RIO NEGRO', level='Date')\n",
    "\n",
    "AugDec2020.loc['Manaus'].head(5)"
   ]
  },
  {
   "cell_type": "markdown",
   "metadata": {},
   "source": [
    "### We pickle our new datasets. The end."
   ]
  },
  {
   "cell_type": "code",
   "execution_count": 39,
   "metadata": {},
   "outputs": [],
   "source": [
    "save_path = 'data' + os.sep + 'processed' + os.sep\n",
    "AugDec2020.to_pickle(f'{save_path}AugDec2020')\n",
    "JanJul2021.to_pickle(f'{save_path}JanJul2021')"
   ]
  },
  {
   "cell_type": "code",
   "execution_count": null,
   "metadata": {},
   "outputs": [],
   "source": []
  }
 ],
 "metadata": {
  "kernelspec": {
   "display_name": "Python 3",
   "language": "python",
   "name": "python3"
  },
  "language_info": {
   "codemirror_mode": {
    "name": "ipython",
    "version": 3
   },
   "file_extension": ".py",
   "mimetype": "text/x-python",
   "name": "python",
   "nbconvert_exporter": "python",
   "pygments_lexer": "ipython3",
   "version": "3.8.8"
  }
 },
 "nbformat": 4,
 "nbformat_minor": 4
}

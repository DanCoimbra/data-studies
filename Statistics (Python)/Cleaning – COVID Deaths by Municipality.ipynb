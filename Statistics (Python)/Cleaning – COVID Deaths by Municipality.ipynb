{
 "cells": [
  {
   "cell_type": "code",
   "execution_count": 1,
   "metadata": {},
   "outputs": [],
   "source": [
    "import os\n",
    "import time\n",
    "import pickle\n",
    "import numpy as np\n",
    "import pandas as pd\n",
    "from collections import defaultdict"
   ]
  },
  {
   "cell_type": "markdown",
   "metadata": {},
   "source": [
    "### We have three .csv datasets, corresponding to the pandemic's three semesters: Jan-Jul 2020, Aug-Dec 2020, and Jan-Jun 2021."
   ]
  },
  {
   "cell_type": "code",
   "execution_count": 2,
   "metadata": {},
   "outputs": [
    {
     "name": "stdout",
     "output_type": "stream",
     "text": [
      "Original csv import time: 6.118001699447632 secs\n"
     ]
    }
   ],
   "source": [
    "# Loading from /data/original.\n",
    "load_path = 'data' + os.sep + 'original' + os.sep\n",
    "title = 'HIST_PAINEL_COVIDBR'\n",
    "download_date = '08jun2021'\n",
    "\n",
    "start = time.time()\n",
    "JanJul2020_original = pd.read_csv(f'{load_path}{title}_2020_Parte1_{download_date}.csv', sep=';', low_memory=False)\n",
    "AugDec2020_original = pd.read_csv(f'{load_path}{title}_2020_Parte2_{download_date}.csv', sep=',', low_memory=False)\n",
    "JanJul2021_original = pd.read_csv(f'{load_path}{title}_Parte3_{download_date}.csv', sep=',', low_memory=False)\n",
    "end = time.time()\n",
    "\n",
    "print(f'Original csv import time: {end - start} secs')"
   ]
  },
  {
   "cell_type": "markdown",
   "metadata": {},
   "source": [
    "### Let us look at a few rows."
   ]
  },
  {
   "cell_type": "code",
   "execution_count": 3,
   "metadata": {},
   "outputs": [
    {
     "data": {
      "text/html": [
       "<div>\n",
       "<style scoped>\n",
       "    .dataframe tbody tr th:only-of-type {\n",
       "        vertical-align: middle;\n",
       "    }\n",
       "\n",
       "    .dataframe tbody tr th {\n",
       "        vertical-align: top;\n",
       "    }\n",
       "\n",
       "    .dataframe thead th {\n",
       "        text-align: right;\n",
       "    }\n",
       "</style>\n",
       "<table border=\"1\" class=\"dataframe\">\n",
       "  <thead>\n",
       "    <tr style=\"text-align: right;\">\n",
       "      <th></th>\n",
       "      <th>regiao</th>\n",
       "      <th>estado</th>\n",
       "      <th>municipio</th>\n",
       "      <th>coduf</th>\n",
       "      <th>codmun</th>\n",
       "      <th>codRegiaoSaude</th>\n",
       "      <th>nomeRegiaoSaude</th>\n",
       "      <th>data</th>\n",
       "      <th>semanaEpi</th>\n",
       "      <th>populacaoTCU2019</th>\n",
       "      <th>casosAcumulado</th>\n",
       "      <th>casosNovos</th>\n",
       "      <th>obitosAcumulado</th>\n",
       "      <th>obitosNovos</th>\n",
       "      <th>Recuperadosnovos</th>\n",
       "      <th>emAcompanhamentoNovos</th>\n",
       "      <th>interior/metropolitana</th>\n",
       "    </tr>\n",
       "  </thead>\n",
       "  <tbody>\n",
       "    <tr>\n",
       "      <th>4929</th>\n",
       "      <td>Norte</td>\n",
       "      <td>RO</td>\n",
       "      <td>Cabixi</td>\n",
       "      <td>11</td>\n",
       "      <td>110003.0</td>\n",
       "      <td>11006.0</td>\n",
       "      <td>CONE SUL</td>\n",
       "      <td>2020-07-29</td>\n",
       "      <td>31</td>\n",
       "      <td>5312.0</td>\n",
       "      <td>44</td>\n",
       "      <td>3</td>\n",
       "      <td>3</td>\n",
       "      <td>0</td>\n",
       "      <td>NaN</td>\n",
       "      <td>NaN</td>\n",
       "      <td>0.0</td>\n",
       "    </tr>\n",
       "    <tr>\n",
       "      <th>4930</th>\n",
       "      <td>Norte</td>\n",
       "      <td>RO</td>\n",
       "      <td>Cabixi</td>\n",
       "      <td>11</td>\n",
       "      <td>110003.0</td>\n",
       "      <td>11006.0</td>\n",
       "      <td>CONE SUL</td>\n",
       "      <td>2020-07-30</td>\n",
       "      <td>31</td>\n",
       "      <td>5312.0</td>\n",
       "      <td>44</td>\n",
       "      <td>0</td>\n",
       "      <td>3</td>\n",
       "      <td>0</td>\n",
       "      <td>NaN</td>\n",
       "      <td>NaN</td>\n",
       "      <td>0.0</td>\n",
       "    </tr>\n",
       "    <tr>\n",
       "      <th>4931</th>\n",
       "      <td>Norte</td>\n",
       "      <td>RO</td>\n",
       "      <td>Cabixi</td>\n",
       "      <td>11</td>\n",
       "      <td>110003.0</td>\n",
       "      <td>11006.0</td>\n",
       "      <td>CONE SUL</td>\n",
       "      <td>2020-07-31</td>\n",
       "      <td>31</td>\n",
       "      <td>5312.0</td>\n",
       "      <td>44</td>\n",
       "      <td>0</td>\n",
       "      <td>3</td>\n",
       "      <td>0</td>\n",
       "      <td>NaN</td>\n",
       "      <td>NaN</td>\n",
       "      <td>0.0</td>\n",
       "    </tr>\n",
       "    <tr>\n",
       "      <th>4932</th>\n",
       "      <td>Norte</td>\n",
       "      <td>RO</td>\n",
       "      <td>Cacoal</td>\n",
       "      <td>11</td>\n",
       "      <td>110004.0</td>\n",
       "      <td>11002.0</td>\n",
       "      <td>CAFE</td>\n",
       "      <td>2020-03-27</td>\n",
       "      <td>13</td>\n",
       "      <td>85359.0</td>\n",
       "      <td>0</td>\n",
       "      <td>0</td>\n",
       "      <td>0</td>\n",
       "      <td>0</td>\n",
       "      <td>NaN</td>\n",
       "      <td>NaN</td>\n",
       "      <td>0.0</td>\n",
       "    </tr>\n",
       "    <tr>\n",
       "      <th>4933</th>\n",
       "      <td>Norte</td>\n",
       "      <td>RO</td>\n",
       "      <td>Cacoal</td>\n",
       "      <td>11</td>\n",
       "      <td>110004.0</td>\n",
       "      <td>11002.0</td>\n",
       "      <td>CAFE</td>\n",
       "      <td>2020-03-28</td>\n",
       "      <td>13</td>\n",
       "      <td>85359.0</td>\n",
       "      <td>0</td>\n",
       "      <td>0</td>\n",
       "      <td>0</td>\n",
       "      <td>0</td>\n",
       "      <td>NaN</td>\n",
       "      <td>NaN</td>\n",
       "      <td>0.0</td>\n",
       "    </tr>\n",
       "    <tr>\n",
       "      <th>4934</th>\n",
       "      <td>Norte</td>\n",
       "      <td>RO</td>\n",
       "      <td>Cacoal</td>\n",
       "      <td>11</td>\n",
       "      <td>110004.0</td>\n",
       "      <td>11002.0</td>\n",
       "      <td>CAFE</td>\n",
       "      <td>2020-03-29</td>\n",
       "      <td>14</td>\n",
       "      <td>85359.0</td>\n",
       "      <td>0</td>\n",
       "      <td>0</td>\n",
       "      <td>0</td>\n",
       "      <td>0</td>\n",
       "      <td>NaN</td>\n",
       "      <td>NaN</td>\n",
       "      <td>0.0</td>\n",
       "    </tr>\n",
       "  </tbody>\n",
       "</table>\n",
       "</div>"
      ],
      "text/plain": [
       "     regiao estado municipio  coduf    codmun  codRegiaoSaude nomeRegiaoSaude  \\\n",
       "4929  Norte     RO    Cabixi     11  110003.0         11006.0        CONE SUL   \n",
       "4930  Norte     RO    Cabixi     11  110003.0         11006.0        CONE SUL   \n",
       "4931  Norte     RO    Cabixi     11  110003.0         11006.0        CONE SUL   \n",
       "4932  Norte     RO    Cacoal     11  110004.0         11002.0            CAFE   \n",
       "4933  Norte     RO    Cacoal     11  110004.0         11002.0            CAFE   \n",
       "4934  Norte     RO    Cacoal     11  110004.0         11002.0            CAFE   \n",
       "\n",
       "            data  semanaEpi  populacaoTCU2019  casosAcumulado  casosNovos  \\\n",
       "4929  2020-07-29         31            5312.0              44           3   \n",
       "4930  2020-07-30         31            5312.0              44           0   \n",
       "4931  2020-07-31         31            5312.0              44           0   \n",
       "4932  2020-03-27         13           85359.0               0           0   \n",
       "4933  2020-03-28         13           85359.0               0           0   \n",
       "4934  2020-03-29         14           85359.0               0           0   \n",
       "\n",
       "      obitosAcumulado  obitosNovos  Recuperadosnovos  emAcompanhamentoNovos  \\\n",
       "4929                3            0               NaN                    NaN   \n",
       "4930                3            0               NaN                    NaN   \n",
       "4931                3            0               NaN                    NaN   \n",
       "4932                0            0               NaN                    NaN   \n",
       "4933                0            0               NaN                    NaN   \n",
       "4934                0            0               NaN                    NaN   \n",
       "\n",
       "      interior/metropolitana  \n",
       "4929                     0.0  \n",
       "4930                     0.0  \n",
       "4931                     0.0  \n",
       "4932                     0.0  \n",
       "4933                     0.0  \n",
       "4934                     0.0  "
      ]
     },
     "execution_count": 4,
     "metadata": {},
     "output_type": "execute_result"
    }
   ],
   "source": [
    "JanJul2020_original.loc[4929:4934, : ]"
   ]
  },
  {
   "cell_type": "markdown",
   "metadata": {},
   "source": [
    "### There are over four thousand rows corresponding to aggregate municipaliy data, corresponding to states, regions, and the country as a whole.\n",
    "### We will process our dataframe in three steps. First, as we will look only at individual municipalities, we will drop aggregate data. Second, as we will look only at mortality rates, we can drop columns pertaining to other topics. Finally, we can combine total deaths ('obitosAcumulado') with total population ('populacaoTCU2019') to obtain mortality rate.\n",
    "### The cell below executes the first two steps."
   ]
  },
  {
   "cell_type": "code",
   "execution_count": 5,
   "metadata": {},
   "outputs": [
    {
     "data": {
      "text/html": [
       "<div>\n",
       "<style scoped>\n",
       "    .dataframe tbody tr th:only-of-type {\n",
       "        vertical-align: middle;\n",
       "    }\n",
       "\n",
       "    .dataframe tbody tr th {\n",
       "        vertical-align: top;\n",
       "    }\n",
       "\n",
       "    .dataframe thead th {\n",
       "        text-align: right;\n",
       "    }\n",
       "</style>\n",
       "<table border=\"1\" class=\"dataframe\">\n",
       "  <thead>\n",
       "    <tr style=\"text-align: right;\">\n",
       "      <th></th>\n",
       "      <th>City</th>\n",
       "      <th>Date</th>\n",
       "      <th>Population</th>\n",
       "      <th>Total deaths</th>\n",
       "    </tr>\n",
       "  </thead>\n",
       "  <tbody>\n",
       "    <tr>\n",
       "      <th>4929</th>\n",
       "      <td>Cabixi</td>\n",
       "      <td>2020-07-29</td>\n",
       "      <td>5312.0</td>\n",
       "      <td>3</td>\n",
       "    </tr>\n",
       "    <tr>\n",
       "      <th>4930</th>\n",
       "      <td>Cabixi</td>\n",
       "      <td>2020-07-30</td>\n",
       "      <td>5312.0</td>\n",
       "      <td>3</td>\n",
       "    </tr>\n",
       "    <tr>\n",
       "      <th>4931</th>\n",
       "      <td>Cabixi</td>\n",
       "      <td>2020-07-31</td>\n",
       "      <td>5312.0</td>\n",
       "      <td>3</td>\n",
       "    </tr>\n",
       "    <tr>\n",
       "      <th>4932</th>\n",
       "      <td>Cacoal</td>\n",
       "      <td>2020-03-27</td>\n",
       "      <td>85359.0</td>\n",
       "      <td>0</td>\n",
       "    </tr>\n",
       "    <tr>\n",
       "      <th>4933</th>\n",
       "      <td>Cacoal</td>\n",
       "      <td>2020-03-28</td>\n",
       "      <td>85359.0</td>\n",
       "      <td>0</td>\n",
       "    </tr>\n",
       "    <tr>\n",
       "      <th>4934</th>\n",
       "      <td>Cacoal</td>\n",
       "      <td>2020-03-29</td>\n",
       "      <td>85359.0</td>\n",
       "      <td>0</td>\n",
       "    </tr>\n",
       "  </tbody>\n",
       "</table>\n",
       "</div>"
      ],
      "text/plain": [
       "        City        Date  Population  Total deaths\n",
       "4929  Cabixi  2020-07-29      5312.0             3\n",
       "4930  Cabixi  2020-07-30      5312.0             3\n",
       "4931  Cabixi  2020-07-31      5312.0             3\n",
       "4932  Cacoal  2020-03-27     85359.0             0\n",
       "4933  Cacoal  2020-03-28     85359.0             0\n",
       "4934  Cacoal  2020-03-29     85359.0             0"
      ]
     },
     "execution_count": 6,
     "metadata": {},
     "output_type": "execute_result"
    }
   ],
   "source": [
    "def drop_non_municipalities(df):\n",
    "    return df[df['municipio'].notnull()]\n",
    "\n",
    "def drop_columns(df):\n",
    "    new_df = df.loc[ : , ['municipio', 'data', 'populacaoTCU2019', 'obitosAcumulado']]\n",
    "    new_df.columns = ['City', 'Date', 'Population', 'Total deaths']\n",
    "    return new_df\n",
    "\n",
    "JanJul2020_processed = drop_columns(drop_non_municipalities(JanJul2020_original))\n",
    "AugDec2020_processed = drop_columns(drop_non_municipalities(AugDec2020_original))\n",
    "JanJul2021_processed = drop_columns(drop_non_municipalities(JanJul2021_original))\n",
    "\n",
    "JanJul2020_processed.loc[4929:4934, : ]"
   ]
  },
  {
   "cell_type": "markdown",
   "metadata": {},
   "source": [
    "### The following cells execute the third step. As they are very time-consuming, they have been commented out and their result has been pickled and is accessible in /data/intermediary."
   ]
  },
  {
   "cell_type": "code",
   "execution_count": 7,
   "metadata": {},
   "outputs": [],
   "source": [
    "def get_death_rate(df):\n",
    "    death_rate_series = pd.Series([0] * len(df.index))\n",
    "    for index, row in df.iterrows():\n",
    "        death_rate = (int(row['Total deaths']) / int(row['Population'])) * 1000000 \n",
    "        death_rate_series[index] = death_rate\n",
    "    df.loc[ : , 'Death rate'] = death_rate_series\n",
    "    return df.loc[:, ['City', 'Date', 'Death rate']]\n",
    "\n",
    "\n",
    "def process_and_save(df, filename):\n",
    "    start = time.time()\n",
    "    df = get_death_rate(df)\n",
    "    end = time.time()\n",
    "    print(f'Death rate obtainment time: {end - start} secs')\n",
    "    save_path = 'data' + os.sep + 'intermediary' + os.sep\n",
    "    df.to_pickle(f'{save_path}{filename}')"
   ]
  },
  {
   "cell_type": "code",
   "execution_count": 8,
   "metadata": {},
   "outputs": [
    {
     "name": "stdout",
     "output_type": "stream",
     "text": [
      "Death rate obtainment time: 441.23489713668823 secs\n"
     ]
    }
   ],
   "source": [
    "# process_and_save(JanJul2020_processed, 'JanJul2020')\n",
    "# 441 secs"
   ]
  },
  {
   "cell_type": "code",
   "execution_count": 9,
   "metadata": {},
   "outputs": [
    {
     "name": "stdout",
     "output_type": "stream",
     "text": [
      "Death rate obtainment time: 1086.5604689121246 secs\n"
     ]
    }
   ],
   "source": [
    "# process_and_save(AugDec2020_processed, 'AugDec2020')\n",
    "# 1087 secs"
   ]
  },
  {
   "cell_type": "code",
   "execution_count": 10,
   "metadata": {},
   "outputs": [
    {
     "name": "stdout",
     "output_type": "stream",
     "text": [
      "Death rate obtainment time: 867.9928705692291 secs\n"
     ]
    }
   ],
   "source": [
    "# process_and_save(JanJul2021_processed, 'JanJul2021')\n",
    "# 868 secs"
   ]
  },
  {
   "cell_type": "code",
   "execution_count": 11,
   "metadata": {},
   "outputs": [
    {
     "data": {
      "text/html": [
       "<div>\n",
       "<style scoped>\n",
       "    .dataframe tbody tr th:only-of-type {\n",
       "        vertical-align: middle;\n",
       "    }\n",
       "\n",
       "    .dataframe tbody tr th {\n",
       "        vertical-align: top;\n",
       "    }\n",
       "\n",
       "    .dataframe thead th {\n",
       "        text-align: right;\n",
       "    }\n",
       "</style>\n",
       "<table border=\"1\" class=\"dataframe\">\n",
       "  <thead>\n",
       "    <tr style=\"text-align: right;\">\n",
       "      <th></th>\n",
       "      <th>City</th>\n",
       "      <th>Date</th>\n",
       "      <th>Death rate</th>\n",
       "    </tr>\n",
       "  </thead>\n",
       "  <tbody>\n",
       "    <tr>\n",
       "      <th>4551</th>\n",
       "      <td>Alta Floresta D'Oeste</td>\n",
       "      <td>2020-03-27</td>\n",
       "      <td>0.000000</td>\n",
       "    </tr>\n",
       "    <tr>\n",
       "      <th>4552</th>\n",
       "      <td>Alta Floresta D'Oeste</td>\n",
       "      <td>2020-03-28</td>\n",
       "      <td>0.000000</td>\n",
       "    </tr>\n",
       "    <tr>\n",
       "      <th>4553</th>\n",
       "      <td>Alta Floresta D'Oeste</td>\n",
       "      <td>2020-03-29</td>\n",
       "      <td>0.000000</td>\n",
       "    </tr>\n",
       "    <tr>\n",
       "      <th>4554</th>\n",
       "      <td>Alta Floresta D'Oeste</td>\n",
       "      <td>2020-03-30</td>\n",
       "      <td>0.000000</td>\n",
       "    </tr>\n",
       "    <tr>\n",
       "      <th>4555</th>\n",
       "      <td>Alta Floresta D'Oeste</td>\n",
       "      <td>2020-03-31</td>\n",
       "      <td>0.000000</td>\n",
       "    </tr>\n",
       "    <tr>\n",
       "      <th>...</th>\n",
       "      <td>...</td>\n",
       "      <td>...</td>\n",
       "      <td>...</td>\n",
       "    </tr>\n",
       "    <tr>\n",
       "      <th>714476</th>\n",
       "      <td>Brasília</td>\n",
       "      <td>2020-07-27</td>\n",
       "      <td>444.073296</td>\n",
       "    </tr>\n",
       "    <tr>\n",
       "      <th>714477</th>\n",
       "      <td>Brasília</td>\n",
       "      <td>2020-07-28</td>\n",
       "      <td>461.318861</td>\n",
       "    </tr>\n",
       "    <tr>\n",
       "      <th>714478</th>\n",
       "      <td>Brasília</td>\n",
       "      <td>2020-07-29</td>\n",
       "      <td>470.604935</td>\n",
       "    </tr>\n",
       "    <tr>\n",
       "      <th>714479</th>\n",
       "      <td>Brasília</td>\n",
       "      <td>2020-07-30</td>\n",
       "      <td>478.896072</td>\n",
       "    </tr>\n",
       "    <tr>\n",
       "      <th>714480</th>\n",
       "      <td>Brasília</td>\n",
       "      <td>2020-07-31</td>\n",
       "      <td>487.187209</td>\n",
       "    </tr>\n",
       "  </tbody>\n",
       "</table>\n",
       "<p>707390 rows × 3 columns</p>\n",
       "</div>"
      ],
      "text/plain": [
       "                         City        Date  Death rate\n",
       "4551    Alta Floresta D'Oeste  2020-03-27    0.000000\n",
       "4552    Alta Floresta D'Oeste  2020-03-28    0.000000\n",
       "4553    Alta Floresta D'Oeste  2020-03-29    0.000000\n",
       "4554    Alta Floresta D'Oeste  2020-03-30    0.000000\n",
       "4555    Alta Floresta D'Oeste  2020-03-31    0.000000\n",
       "...                       ...         ...         ...\n",
       "714476               Brasília  2020-07-27  444.073296\n",
       "714477               Brasília  2020-07-28  461.318861\n",
       "714478               Brasília  2020-07-29  470.604935\n",
       "714479               Brasília  2020-07-30  478.896072\n",
       "714480               Brasília  2020-07-31  487.187209\n",
       "\n",
       "[707390 rows x 3 columns]"
      ]
     },
     "execution_count": 12,
     "metadata": {},
     "output_type": "execute_result"
    }
   ],
   "source": [
    "save_path = 'data' + os.sep + 'intermediary' + os.sep\n",
    "JanJul2020_pickled = pd.read_pickle(f'{save_path}JanJul2020')\n",
    "AugDec2020_pickled = pd.read_pickle(f'{save_path}AugDec2020')\n",
    "JanJul2021_pickled = pd.read_pickle(f'{save_path}JanJul2021')\n",
    "JanJul2020_pickled"
   ]
  },
  {
   "cell_type": "code",
   "execution_count": 13,
   "metadata": {},
   "outputs": [
    {
     "name": "stdout",
     "output_type": "stream",
     "text": [
      "MultiIndex obtainment time: 2.113995313644409 secs\n"
     ]
    }
   ],
   "source": [
    "def get_multi_index(df):\n",
    "    cities = df['City'].unique()\n",
    "    dates = df['Date'].unique()\n",
    "    tuples = list(zip(df['City'], df['Date']))\n",
    "    return pd.MultiIndex.from_tuples(tuples, names=['City', 'Date'])\n",
    "\n",
    "start = time.time()\n",
    "JanJul2020_multi_index = get_multi_index(JanJul2020_pickled)\n",
    "AugDec2020_multi_index = get_multi_index(AugDec2020_pickled)\n",
    "JanJul2021_multi_index = get_multi_index(JanJul2021_pickled)\n",
    "end = time.time()\n",
    "print(f'MultiIndex obtainment time: {end - start} secs')"
   ]
  },
  {
   "cell_type": "code",
   "execution_count": 14,
   "metadata": {},
   "outputs": [
    {
     "name": "stdout",
     "output_type": "stream",
     "text": [
      "MultiIndex DataFrame obtainment time: 0.014006853103637695 secs\n"
     ]
    }
   ],
   "source": [
    "def df_constructor(df, multi_index):\n",
    "    return pd.DataFrame(data=np.array(df['Death rate']), index=multi_index, columns=['Death rate'])\n",
    "\n",
    "start = time.time()\n",
    "JanJul2020 = df_constructor(JanJul2020_pickled, JanJul2020_multi_index)\n",
    "AugDec2020 = df_constructor(AugDec2020_pickled, AugDec2020_multi_index)\n",
    "JanJul2021 = df_constructor(JanJul2021_pickled, JanJul2021_multi_index)\n",
    "end = time.time()\n",
    "print(f'MultiIndex DataFrame obtainment time: {end - start} secs')"
   ]
  },
  {
   "cell_type": "code",
   "execution_count": 15,
   "metadata": {},
   "outputs": [
    {
     "data": {
      "text/html": [
       "<div>\n",
       "<style scoped>\n",
       "    .dataframe tbody tr th:only-of-type {\n",
       "        vertical-align: middle;\n",
       "    }\n",
       "\n",
       "    .dataframe tbody tr th {\n",
       "        vertical-align: top;\n",
       "    }\n",
       "\n",
       "    .dataframe thead th {\n",
       "        text-align: right;\n",
       "    }\n",
       "</style>\n",
       "<table border=\"1\" class=\"dataframe\">\n",
       "  <thead>\n",
       "    <tr style=\"text-align: right;\">\n",
       "      <th></th>\n",
       "      <th></th>\n",
       "      <th>Death rate</th>\n",
       "    </tr>\n",
       "    <tr>\n",
       "      <th>City</th>\n",
       "      <th>Date</th>\n",
       "      <th></th>\n",
       "    </tr>\n",
       "  </thead>\n",
       "  <tbody>\n",
       "    <tr>\n",
       "      <th rowspan=\"5\" valign=\"top\">Alta Floresta D'Oeste</th>\n",
       "      <th>2020-03-27</th>\n",
       "      <td>0.000000</td>\n",
       "    </tr>\n",
       "    <tr>\n",
       "      <th>2020-03-28</th>\n",
       "      <td>0.000000</td>\n",
       "    </tr>\n",
       "    <tr>\n",
       "      <th>2020-03-29</th>\n",
       "      <td>0.000000</td>\n",
       "    </tr>\n",
       "    <tr>\n",
       "      <th>2020-03-30</th>\n",
       "      <td>0.000000</td>\n",
       "    </tr>\n",
       "    <tr>\n",
       "      <th>2020-03-31</th>\n",
       "      <td>0.000000</td>\n",
       "    </tr>\n",
       "    <tr>\n",
       "      <th>...</th>\n",
       "      <th>...</th>\n",
       "      <td>...</td>\n",
       "    </tr>\n",
       "    <tr>\n",
       "      <th rowspan=\"5\" valign=\"top\">Brasília</th>\n",
       "      <th>2020-07-27</th>\n",
       "      <td>444.073296</td>\n",
       "    </tr>\n",
       "    <tr>\n",
       "      <th>2020-07-28</th>\n",
       "      <td>461.318861</td>\n",
       "    </tr>\n",
       "    <tr>\n",
       "      <th>2020-07-29</th>\n",
       "      <td>470.604935</td>\n",
       "    </tr>\n",
       "    <tr>\n",
       "      <th>2020-07-30</th>\n",
       "      <td>478.896072</td>\n",
       "    </tr>\n",
       "    <tr>\n",
       "      <th>2020-07-31</th>\n",
       "      <td>487.187209</td>\n",
       "    </tr>\n",
       "  </tbody>\n",
       "</table>\n",
       "<p>707390 rows × 1 columns</p>\n",
       "</div>"
      ],
      "text/plain": [
       "                                  Death rate\n",
       "City                  Date                  \n",
       "Alta Floresta D'Oeste 2020-03-27    0.000000\n",
       "                      2020-03-28    0.000000\n",
       "                      2020-03-29    0.000000\n",
       "                      2020-03-30    0.000000\n",
       "                      2020-03-31    0.000000\n",
       "...                                      ...\n",
       "Brasília              2020-07-27  444.073296\n",
       "                      2020-07-28  461.318861\n",
       "                      2020-07-29  470.604935\n",
       "                      2020-07-30  478.896072\n",
       "                      2020-07-31  487.187209\n",
       "\n",
       "[707390 rows x 1 columns]"
      ]
     },
     "execution_count": 16,
     "metadata": {},
     "output_type": "execute_result"
    }
   ],
   "source": [
    "JanJul2020"
   ]
  },
  {
   "cell_type": "code",
   "execution_count": 17,
   "metadata": {},
   "outputs": [
    {
     "data": {
      "text/plain": [
       "478.8960715929729"
      ]
     },
     "execution_count": 18,
     "metadata": {},
     "output_type": "execute_result"
    }
   ],
   "source": [
    "def get_value(df, place, date):\n",
    "    return df.loc[place].loc[date]['Death rate']\n",
    "\n",
    "get_value(JanJul2020, 'Brasília', '2020-07-30')"
   ]
  },
  {
   "cell_type": "code",
   "execution_count": 19,
   "metadata": {},
   "outputs": [],
   "source": [
    "save_path = 'data' + os.sep + 'final' + os.sep\n",
    "JanJul2020.to_pickle(f'{save_path}JanJul2020')\n",
    "AugDec2020.to_pickle(f'{save_path}AugDec2020')\n",
    "JanJul2021.to_pickle(f'{save_path}JanJul2021')"
   ]
  }
 ],
 "metadata": {
  "kernelspec": {
   "display_name": "Python 3",
   "language": "python",
   "name": "python3"
  },
  "language_info": {
   "codemirror_mode": {
    "name": "ipython",
    "version": 3
   },
   "file_extension": ".py",
   "mimetype": "text/x-python",
   "name": "python",
   "nbconvert_exporter": "python",
   "pygments_lexer": "ipython3",
   "version": "3.8.5"
  }
 },
 "nbformat": 4,
 "nbformat_minor": 4
}

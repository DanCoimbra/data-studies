{
 "cells": [
  {
   "cell_type": "markdown",
   "metadata": {},
   "source": [
    "# Work in Progress"
   ]
  },
  {
   "cell_type": "markdown",
   "metadata": {},
   "source": [
    "# Objectives:\n",
    "### To practice the application of descriptive and inferential Statistics 101 tools to COVID-19 data.\n",
    "### In specific, we will look at mortality rate statistics across time and across regions in Brazil."
   ]
  },
  {
   "cell_type": "code",
   "execution_count": 1,
   "metadata": {},
   "outputs": [],
   "source": [
    "import os\n",
    "import time\n",
    "import pickle\n",
    "import numpy as np\n",
    "import pandas as pd\n",
    "from collections import defaultdict"
   ]
  },
  {
   "cell_type": "code",
   "execution_count": 2,
   "metadata": {},
   "outputs": [],
   "source": [
    "save_path = 'data' + os.sep + 'processed' + os.sep\n",
    "JanJul2020 = pd.read_pickle(f'{save_path}JanJul2020')\n",
    "AugDec2020 = pd.read_pickle(f'{save_path}AugDec2020')\n",
    "JanJul2021 = pd.read_pickle(f'{save_path}JanJul2021')"
   ]
  },
  {
   "cell_type": "code",
   "execution_count": 6,
   "metadata": {},
   "outputs": [
    {
     "name": "stdout",
     "output_type": "stream",
     "text": [
      "Obtained value 1413.8046767318858 in 0.00700068473815918 seconds.\n"
     ]
    }
   ],
   "source": [
    "def get_value(df, place, date):\n",
    "    return df.loc[place].loc[date]['Death rate']\n",
    "\n",
    "start = time.time()\n",
    "value = get_value(JanJul2021, 'Brasília', '2021-01-01')\n",
    "end = time.time()\n",
    "print(f\"Obtained value {value} in {end - start} seconds.\")"
   ]
  },
  {
   "cell_type": "code",
   "execution_count": null,
   "metadata": {},
   "outputs": [],
   "source": []
  }
 ],
 "metadata": {
  "kernelspec": {
   "display_name": "Python 3",
   "language": "python",
   "name": "python3"
  },
  "language_info": {
   "codemirror_mode": {
    "name": "ipython",
    "version": 3
   },
   "file_extension": ".py",
   "mimetype": "text/x-python",
   "name": "python",
   "nbconvert_exporter": "python",
   "pygments_lexer": "ipython3",
   "version": "3.8.5"
  }
 },
 "nbformat": 4,
 "nbformat_minor": 4
}
